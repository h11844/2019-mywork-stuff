{
 "cells": [
  {
   "cell_type": "markdown",
   "metadata": {},
   "source": [
    "# 類別: class "
   ]
  },
  {
   "cell_type": "code",
   "execution_count": 1,
   "metadata": {},
   "outputs": [],
   "source": [
    "class Card:\n",
    "    suit=3\n",
    "    rank=5"
   ]
  },
  {
   "cell_type": "code",
   "execution_count": 2,
   "metadata": {},
   "outputs": [],
   "source": [
    "card01=Card()\n",
    "#定義card01"
   ]
  },
  {
   "cell_type": "code",
   "execution_count": 3,
   "metadata": {},
   "outputs": [
    {
     "data": {
      "text/plain": [
       "__main__.Card"
      ]
     },
     "execution_count": 3,
     "metadata": {},
     "output_type": "execute_result"
    }
   ],
   "source": [
    "type(card01)\n",
    "#type:資料的型態"
   ]
  },
  {
   "cell_type": "code",
   "execution_count": 4,
   "metadata": {},
   "outputs": [
    {
     "data": {
      "text/plain": [
       "3"
      ]
     },
     "execution_count": 4,
     "metadata": {},
     "output_type": "execute_result"
    }
   ],
   "source": [
    "card01.suit"
   ]
  },
  {
   "cell_type": "code",
   "execution_count": 19,
   "metadata": {},
   "outputs": [],
   "source": [
    "class Card:\n",
    "    SUITS=[\"♠\",\"♥\",\"♦\",\"♣\"]\n",
    "    RANKS=[\"A\",\"2\",\"3\",\"4\",\"5\",\"6\",\"7\",\"8\",\"9\",\"10\",\"J\",\"Q\",\"K\"]\n",
    "    \n",
    "    def __init__(self,s,r):\n",
    "        self.suit= s\n",
    "        self.rank= r\n",
    "    \n",
    "    def show(self):\n",
    "        print(self.SUITS[self.suit] + self.RANKS[self.rank])\n",
    "    \n",
    "#不變之常數通常大寫\n",
    "# def __init__(self):\n",
    "  #指宣告時會自動執行的函式，通常放基礎的屬性設定\n",
    "#self為class自稱，要放第一個是指先引入自己，只要在class裡有自己都要加self\n",
    "#show 指令是展示"
   ]
  },
  {
   "cell_type": "code",
   "execution_count": 21,
   "metadata": {},
   "outputs": [],
   "source": [
    "card01 = Card(0,3)"
   ]
  },
  {
   "cell_type": "code",
   "execution_count": 22,
   "metadata": {},
   "outputs": [
    {
     "data": {
      "text/plain": [
       "0"
      ]
     },
     "execution_count": 22,
     "metadata": {},
     "output_type": "execute_result"
    }
   ],
   "source": [
    "card01.suit"
   ]
  },
  {
   "cell_type": "code",
   "execution_count": 23,
   "metadata": {},
   "outputs": [
    {
     "data": {
      "text/plain": [
       "3"
      ]
     },
     "execution_count": 23,
     "metadata": {},
     "output_type": "execute_result"
    }
   ],
   "source": [
    "card01.rank"
   ]
  },
  {
   "cell_type": "code",
   "execution_count": 24,
   "metadata": {},
   "outputs": [
    {
     "name": "stdout",
     "output_type": "stream",
     "text": [
      "♠4\n"
     ]
    }
   ],
   "source": [
    "card01.show()"
   ]
  },
  {
   "cell_type": "code",
   "execution_count": 29,
   "metadata": {},
   "outputs": [],
   "source": [
    "class Card:\n",
    "    SUITS=[\"♠\",\"♥\",\"♦\",\"♣\"]\n",
    "    RANKS=[\"A\",\"2\",\"3\",\"4\",\"5\",\"6\",\"7\",\"8\",\"9\",\"10\",\"J\",\"Q\",\"K\"]\n",
    "    \n",
    "    def __init__(self,s,r):\n",
    "        self.suit= s\n",
    "        self.rank= r\n",
    "    \n",
    "    def __repr__(self):\n",
    "        return self.SUITS[self.suit] + self.RANKS[self.rank]\n",
    "# __repr__ 指representation\n",
    "# return 指回傳回應"
   ]
  },
  {
   "cell_type": "code",
   "execution_count": 30,
   "metadata": {},
   "outputs": [
    {
     "name": "stdout",
     "output_type": "stream",
     "text": [
      "♠10\n"
     ]
    }
   ],
   "source": [
    "card01= Card(0,9)\n",
    "print(card01)"
   ]
  },
  {
   "cell_type": "code",
   "execution_count": 31,
   "metadata": {},
   "outputs": [
    {
     "data": {
      "text/plain": [
       "♠10"
      ]
     },
     "execution_count": 31,
     "metadata": {},
     "output_type": "execute_result"
    }
   ],
   "source": [
    "card01"
   ]
  },
  {
   "cell_type": "code",
   "execution_count": 32,
   "metadata": {},
   "outputs": [],
   "source": [
    "SUITS=[\"♠\",\"♥\",\"♦\",\"♣\"]\n",
    "RANKS=[\"A\",\"2\",\"3\",\"4\",\"5\",\"6\",\"7\",\"8\",\"9\",\"10\",\"J\",\"Q\",\"K\"]"
   ]
  },
  {
   "cell_type": "code",
   "execution_count": 33,
   "metadata": {},
   "outputs": [
    {
     "data": {
      "text/plain": [
       "'♦'"
      ]
     },
     "execution_count": 33,
     "metadata": {},
     "output_type": "execute_result"
    }
   ],
   "source": [
    "SUITS[2]\n",
    "#0:♠,1:♥,2:♦,3:♣"
   ]
  },
  {
   "cell_type": "code",
   "execution_count": 35,
   "metadata": {},
   "outputs": [
    {
     "data": {
      "text/plain": [
       "'6'"
      ]
     },
     "execution_count": 35,
     "metadata": {},
     "output_type": "execute_result"
    }
   ],
   "source": [
    "RANKS[5]"
   ]
  },
  {
   "cell_type": "markdown",
   "metadata": {},
   "source": [
    "# 格式化的輸出"
   ]
  },
  {
   "cell_type": "code",
   "execution_count": 39,
   "metadata": {},
   "outputs": [
    {
     "name": "stdout",
     "output_type": "stream",
     "text": [
      "0,1,2,3,4,5,6,7,8,9,"
     ]
    }
   ],
   "source": [
    "for i in range(10):\n",
    "    print(i, end=\",\")\n",
    "\n",
    "#end 後面接\n",
    "#\\n 換行"
   ]
  },
  {
   "cell_type": "code",
   "execution_count": 40,
   "metadata": {},
   "outputs": [
    {
     "data": {
      "text/plain": [
       "'0,1,2,3,4,5,6,7,8,9'"
      ]
     },
     "execution_count": 40,
     "metadata": {},
     "output_type": "execute_result"
    }
   ],
   "source": [
    "\",\".join(map(str,range(10)))\n",
    "\n",
    "#join指令 是連接作用\n",
    "#此時map之作用是將str作用在(10)上"
   ]
  },
  {
   "cell_type": "code",
   "execution_count": 41,
   "metadata": {},
   "outputs": [
    {
     "name": "stdout",
     "output_type": "stream",
     "text": [
      "0,1,2,3,4,5,6,7,8,9\n"
     ]
    }
   ],
   "source": [
    "print(\",\".join(map(str,range(10))))"
   ]
  },
  {
   "cell_type": "markdown",
   "metadata": {},
   "source": [
    "## 格式化方法1"
   ]
  },
  {
   "cell_type": "code",
   "execution_count": 42,
   "metadata": {},
   "outputs": [],
   "source": [
    "name = \"Kenny\"\n",
    "age = 25"
   ]
  },
  {
   "cell_type": "code",
   "execution_count": 46,
   "metadata": {},
   "outputs": [
    {
     "name": "stdout",
     "output_type": "stream",
     "text": [
      "你好，我叫Kenny，今年25歲。\n"
     ]
    }
   ],
   "source": [
    "print(\"你好，我叫\" + name +\"，今年\"+ str(age) + \"歲。\")"
   ]
  },
  {
   "cell_type": "code",
   "execution_count": 45,
   "metadata": {},
   "outputs": [
    {
     "name": "stdout",
     "output_type": "stream",
     "text": [
      "你好，我叫Kenny，今年25歲。\n"
     ]
    }
   ],
   "source": [
    "message = \"你好，我叫%s，今年%d歲。\" % (name, age)\n",
    "print(message)\n",
    "\n",
    "# %s 字串\n",
    "# %d 數字\n",
    "# 結尾的% 是用來隔開語句，代表語意結束。 "
   ]
  },
  {
   "cell_type": "markdown",
   "metadata": {},
   "source": [
    "## 格式化方法2"
   ]
  },
  {
   "cell_type": "code",
   "execution_count": 48,
   "metadata": {},
   "outputs": [
    {
     "name": "stdout",
     "output_type": "stream",
     "text": [
      "你好，我叫Kenny，今年25歲。\n"
     ]
    }
   ],
   "source": [
    "message = \"你好，我叫{}，今年{}歲。\".format(name, age)\n",
    "print(message)\n",
    "# .format格式化指令"
   ]
  },
  {
   "cell_type": "markdown",
   "metadata": {},
   "source": [
    "## 格式化方法3"
   ]
  },
  {
   "cell_type": "code",
   "execution_count": 51,
   "metadata": {},
   "outputs": [
    {
     "name": "stdout",
     "output_type": "stream",
     "text": [
      "你好，我叫Kenny，今年25歲。\n"
     ]
    }
   ],
   "source": [
    "message = f\"你好，我叫{name}，今年{age}歲。\"\n",
    "print(message)\n",
    "# 加了f 代表後方name, age都是變數"
   ]
  },
  {
   "cell_type": "markdown",
   "metadata": {},
   "source": [
    "# 數字控制 01"
   ]
  },
  {
   "cell_type": "code",
   "execution_count": 54,
   "metadata": {},
   "outputs": [
    {
     "name": "stdout",
     "output_type": "stream",
     "text": [
      "一鎂折合臺票 31.0655483 元。\n"
     ]
    }
   ],
   "source": [
    "c= 31.0655483\n",
    "print(f\"一鎂折合臺票 {c} 元。\")"
   ]
  },
  {
   "cell_type": "code",
   "execution_count": 57,
   "metadata": {},
   "outputs": [
    {
     "name": "stdout",
     "output_type": "stream",
     "text": [
      "一鎂折合臺票 31.07 元。\n"
     ]
    }
   ],
   "source": [
    "print(f\"一鎂折合臺票 {c:.2f} 元。\")\n",
    "\n",
    "# 冒號後.2f 指小數點後兩位"
   ]
  },
  {
   "cell_type": "code",
   "execution_count": 59,
   "metadata": {},
   "outputs": [
    {
     "name": "stdout",
     "output_type": "stream",
     "text": [
      "一鎂折合臺票 *****31.07 元。\n"
     ]
    }
   ],
   "source": [
    "print(f\"一鎂折合臺票 {c:*>10.2f} 元。\")\n",
    "\n",
    "# 冒號後*+小數點+ans共10位"
   ]
  },
  {
   "cell_type": "code",
   "execution_count": 65,
   "metadata": {},
   "outputs": [
    {
     "name": "stdout",
     "output_type": "stream",
     "text": [
      "    *     \n",
      "    **    \n",
      "   ***    \n",
      "   ****   \n",
      "  *****   \n",
      "  ******  \n",
      " *******  \n",
      " ******** \n",
      "********* \n"
     ]
    }
   ],
   "source": [
    "for i in range(1,10):\n",
    "    star = \"*\" * i\n",
    "    print(f\"{star:^10}\")\n",
    "\n",
    "# 冒號後^ 指置中"
   ]
  },
  {
   "cell_type": "markdown",
   "metadata": {},
   "source": [
    "# 以格式化作詩"
   ]
  },
  {
   "cell_type": "code",
   "execution_count": 67,
   "metadata": {},
   "outputs": [],
   "source": [
    "#https://nbviewer.jupyter.org/github/yenlung/Python-Programming/blob/master/Python%20%E5%95%8F%E9%A1%8C%E9%9B%86/%E6%9C%83%E5%AF%AB%E8%A9%A9%E7%9A%84%E6%96%87%E9%9D%92%E6%A9%9F%E5%99%A8%E4%BA%BA.ipynb"
   ]
  },
  {
   "cell_type": "code",
   "execution_count": 96,
   "metadata": {},
   "outputs": [],
   "source": [
    "words='我','我的','妳','妳的','心','溫柔','日子','雨','風','天空','雲','等待','哭泣','戀愛','相遇','分離','忘記','心醉','驀然','吹過','思念','靈魂','停止'"
   ]
  },
  {
   "cell_type": "code",
   "execution_count": 70,
   "metadata": {},
   "outputs": [
    {
     "data": {
      "text/plain": [
       "'妳的'"
      ]
     },
     "execution_count": 70,
     "metadata": {},
     "output_type": "execute_result"
    }
   ],
   "source": [
    "from random import choice\n",
    "choice(words)\n",
    "\n",
    "# choice 指令是隨機取一個"
   ]
  },
  {
   "cell_type": "code",
   "execution_count": 72,
   "metadata": {},
   "outputs": [
    {
     "data": {
      "text/plain": [
       "['風', '分離', '吹過', '分離', '雨']"
      ]
     },
     "execution_count": 72,
     "metadata": {},
     "output_type": "execute_result"
    }
   ],
   "source": [
    "from random import choices\n",
    "choices(words, k=5)\n",
    "\n",
    "# choices 指令是隨機取k個，可能重複\n",
    "# k 是 class下定義之變數，必如此用"
   ]
  },
  {
   "cell_type": "code",
   "execution_count": 74,
   "metadata": {},
   "outputs": [
    {
     "data": {
      "text/plain": [
       "['我', '雨', '妳的', '心醉', '忘記']"
      ]
     },
     "execution_count": 74,
     "metadata": {},
     "output_type": "execute_result"
    }
   ],
   "source": [
    "from random import sample\n",
    "sample(words, 5)\n",
    "\n",
    "# sample 指令是隨機取k個，不會重複"
   ]
  },
  {
   "cell_type": "code",
   "execution_count": 94,
   "metadata": {},
   "outputs": [],
   "source": [
    "words='''\n",
    "我\n",
    "我的\n",
    "妳\n",
    "妳的\n",
    "心\n",
    "溫柔\n",
    "日子\n",
    "雨\n",
    "風\n",
    "天空\n",
    "雲\n",
    "等待\n",
    "哭泣\n",
    "戀愛\n",
    "相遇\n",
    "分離\n",
    "忘記\n",
    "心醉\n",
    "驀然\n",
    "吹過\n",
    "思念\n",
    "靈魂\n",
    "停止\n",
    "'''\n",
    "\n",
    "# '''字串'''  連三個引號為定義字串\n",
    "# 以此較易任意插入其他字串"
   ]
  },
  {
   "cell_type": "code",
   "execution_count": 98,
   "metadata": {},
   "outputs": [],
   "source": [
    "from random import randint, choices, sample\n",
    "def poem():\n",
    "    n= randint(5,10)\n",
    "\n",
    "    for i in range(n):\n",
    "        m = randint(3,6)\n",
    "        sentence = sample(words, m)\n",
    "        print(\" \".join(sentence))"
   ]
  },
  {
   "cell_type": "code",
   "execution_count": 99,
   "metadata": {},
   "outputs": [
    {
     "name": "stdout",
     "output_type": "stream",
     "text": [
      "妳 吹過 相遇 日子 雲\n",
      "溫柔 靈魂 我的 天空 分離\n",
      "忘記 驀然 戀愛 我的 相遇 雨\n",
      "天空 忘記 等待\n",
      "戀愛 妳 吹過 天空 風 哭泣\n",
      "我的 哭泣 驀然 心醉 靈魂\n"
     ]
    }
   ],
   "source": [
    "poem()"
   ]
  },
  {
   "cell_type": "code",
   "execution_count": 104,
   "metadata": {},
   "outputs": [
    {
     "name": "stdout",
     "output_type": "stream",
     "text": [
      "File `poem.py` exists. Overwrite (y/[N])?  Y\n",
      "The following commands were written to file `poem.py`:\n",
      "words='我','我的','妳','妳的','心','溫柔','日子','雨','風','天空','雲','等待','哭泣','戀愛','相遇','分離','忘記','心醉','驀然','吹過','思念','靈魂','停止'\n",
      "from random import randint, choices, sample\n",
      "def poem():\n",
      "    n= randint(5,10)\n",
      "\n",
      "    for i in range(n):\n",
      "        m = randint(3,6)\n",
      "        sentence = sample(words, m)\n",
      "        print(\" \".join(sentence))\n",
      "poem()\n"
     ]
    }
   ],
   "source": [
    "%save \"poem.py\" 96 98 99"
   ]
  },
  {
   "cell_type": "code",
   "execution_count": null,
   "metadata": {},
   "outputs": [],
   "source": []
  }
 ],
 "metadata": {
  "kernelspec": {
   "display_name": "Python 3",
   "language": "python",
   "name": "python3"
  },
  "language_info": {
   "codemirror_mode": {
    "name": "ipython",
    "version": 3
   },
   "file_extension": ".py",
   "mimetype": "text/x-python",
   "name": "python",
   "nbconvert_exporter": "python",
   "pygments_lexer": "ipython3",
   "version": "3.6.6"
  }
 },
 "nbformat": 4,
 "nbformat_minor": 2
}
