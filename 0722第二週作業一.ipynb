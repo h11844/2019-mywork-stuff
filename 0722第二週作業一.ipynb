{
 "cells": [
  {
   "cell_type": "code",
   "execution_count": 3,
   "metadata": {},
   "outputs": [
    {
     "name": "stdout",
     "output_type": "stream",
     "text": [
      "108-5月平均薪資:\n"
     ]
    },
    {
     "data": {
      "application/vnd.jupyter.widget-view+json": {
       "model_id": "9706a6ab3a4e46fea2c29f26e479a09d",
       "version_major": 2,
       "version_minor": 0
      },
      "text/plain": [
       "interactive(children=(Dropdown(description='行業別', options={'礦業及土石採取業': '46611元', '製造業': '48419元', '電力及燃氣供應業': …"
      ]
     },
     "metadata": {},
     "output_type": "display_data"
    }
   ],
   "source": [
    "from ipywidgets import interact_manual\n",
    "print(\"108-5月平均薪資:\")\n",
    "def f(行業別):\n",
    "    print(行業別)\n",
    "interact_manual(f,行業別={\"礦業及土石採取業\":\"46611元\",\n",
    "                       \"製造業\":\"48419元\",\n",
    "                       \"電力及燃氣供應業\":\"187262元\",\n",
    "                       \"用水供應及污染整治業\":\"39301元\",\n",
    "                       \"營建工程業\":\"42244元\",\n",
    "                       \"批發及零售業\":\"46089元\",\n",
    "                       \"運輸及倉儲業\":\"50326元\",\n",
    "                       \"住宿及餐飲業\":\"32479元\",\n",
    "                       \"出版、影音製作、傳播及資通訊服務業\":\"67363元\",\n",
    "                       \"金融及保險業\":\"96934元\",\n",
    "                       \"不動產業\":\"44503元\",\n",
    "                       \"專業、科學及技術服務業\":\"54117元\",\n",
    "                       \"支援服務業\":\"36046元\",\n",
    "                       \"教育業(不含各級公私立學校等)\":\"25473元\",\n",
    "                       \"醫療保健業\":\"63757元\",\n",
    "                       \"藝術、娛樂及休閒服務業\":\"37609元\",\n",
    "                       \"其他服務業\":\"34265元\"});"
   ]
  },
  {
   "cell_type": "code",
   "execution_count": null,
   "metadata": {},
   "outputs": [],
   "source": []
  }
 ],
 "metadata": {
  "kernelspec": {
   "display_name": "Python 3",
   "language": "python",
   "name": "python3"
  },
  "language_info": {
   "codemirror_mode": {
    "name": "ipython",
    "version": 3
   },
   "file_extension": ".py",
   "mimetype": "text/x-python",
   "name": "python",
   "nbconvert_exporter": "python",
   "pygments_lexer": "ipython3",
   "version": "3.6.6"
  }
 },
 "nbformat": 4,
 "nbformat_minor": 2
}
