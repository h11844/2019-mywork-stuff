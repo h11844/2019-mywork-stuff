{
 "cells": [
  {
   "cell_type": "markdown",
   "metadata": {},
   "source": [
    "# https://leetcode.com/"
   ]
  },
  {
   "cell_type": "code",
   "execution_count": null,
   "metadata": {},
   "outputs": [],
   "source": [
    "程式練習"
   ]
  },
  {
   "cell_type": "code",
   "execution_count": null,
   "metadata": {},
   "outputs": [],
   "source": [
    "###no6."
   ]
  },
  {
   "cell_type": "code",
   "execution_count": 4,
   "metadata": {},
   "outputs": [
    {
     "ename": "NameError",
     "evalue": "name 'M' is not defined",
     "output_type": "error",
     "traceback": [
      "\u001b[1;31m---------------------------------------------------------------------------\u001b[0m",
      "\u001b[1;31mNameError\u001b[0m                                 Traceback (most recent call last)",
      "\u001b[1;32m<ipython-input-4-d92ee90ae653>\u001b[0m in \u001b[0;36m<module>\u001b[1;34m()\u001b[0m\n\u001b[0;32m      3\u001b[0m     \u001b[0mN\u001b[0m\u001b[1;33m=\u001b[0m\u001b[0mlen\u001b[0m\u001b[1;33m(\u001b[0m\u001b[0mA\u001b[0m\u001b[1;33m[\u001b[0m\u001b[1;36m0\u001b[0m\u001b[1;33m]\u001b[0m\u001b[1;33m)\u001b[0m\u001b[1;33m\u001b[0m\u001b[0m\n\u001b[0;32m      4\u001b[0m \u001b[1;33m\u001b[0m\u001b[0m\n\u001b[1;32m----> 5\u001b[1;33m \u001b[1;32mfor\u001b[0m \u001b[0mi\u001b[0m \u001b[1;32min\u001b[0m \u001b[0mrange\u001b[0m\u001b[1;33m(\u001b[0m\u001b[0mM\u001b[0m\u001b[1;33m)\u001b[0m\u001b[1;33m:\u001b[0m\u001b[1;33m\u001b[0m\u001b[0m\n\u001b[0m\u001b[0;32m      6\u001b[0m     \u001b[0mrowsum\u001b[0m \u001b[1;33m=\u001b[0m \u001b[1;36m0\u001b[0m\u001b[1;33m\u001b[0m\u001b[0m\n\u001b[0;32m      7\u001b[0m     \u001b[1;32mfor\u001b[0m \u001b[0mj\u001b[0m \u001b[1;32min\u001b[0m \u001b[0mrange\u001b[0m\u001b[1;33m(\u001b[0m\u001b[0mN\u001b[0m\u001b[1;33m)\u001b[0m\u001b[1;33m:\u001b[0m\u001b[1;33m\u001b[0m\u001b[0m\n",
      "\u001b[1;31mNameError\u001b[0m: name 'M' is not defined"
     ]
    }
   ],
   "source": [
    "def main(A=[[]]):\n",
    "    M=len(A)\n",
    "    N=len(A[0])\n",
    "    \n",
    "for i in range(M): \n",
    "    rowsum = 0\n",
    "    for j in range(N):\n",
    "        rowsum = rowsum + A[i][j]\n",
    "    print(\"The sum of row {i}\" is {rowsum})\n",
    "    "
   ]
  },
  {
   "cell_type": "code",
   "execution_count": null,
   "metadata": {},
   "outputs": [],
   "source": [
    "###no8. https://apcs.csie.ntnu.edu.tw/wp-content/uploads/2018/12/1060304APCSconcept.pdf"
   ]
  },
  {
   "cell_type": "code",
   "execution_count": 7,
   "metadata": {},
   "outputs": [
    {
     "name": "stdout",
     "output_type": "stream",
     "text": [
      "1,6,7,7,8,1,9"
     ]
    }
   ],
   "source": [
    "s=1\n",
    "def add(a=0):\n",
    "    s= 6\n",
    "    while a>=0:\n",
    "        # print(f\"{s}(add_1),\")\n",
    "        print(f\"{s},\", end='')\n",
    "        s=s+1\n",
    "        # print(f\"{s}(add_2),\")\n",
    "        print(f'{s},', end='')\n",
    "        a=a-1\n",
    "    \n",
    "# print(f\"{s}(main_1),\") \n",
    "print(f'{s},', end='')\n",
    "add(s)\n",
    "# print(f\"{s}(main_2),\") \n",
    "print(f'{s},', end='')\n",
    "s = 9\n",
    "# print(f\"{s}(main_3)\")\n",
    "print(f'{s}', end='')"
   ]
  },
  {
   "cell_type": "code",
   "execution_count": 8,
   "metadata": {},
   "outputs": [],
   "source": [
    "#105年 3月 https://apcs.csie.ntnu.edu.tw/wp-content/uploads/2018/12/1050305APCSconcept.pdf"
   ]
  },
  {
   "cell_type": "code",
   "execution_count": 5,
   "metadata": {},
   "outputs": [
    {
     "name": "stdout",
     "output_type": "stream",
     "text": [
      "d=[0, 1, 2, 3, 4, 5]\n",
      "輸入整數:11\n",
      "輸入整數:12\n",
      "輸入整數:13\n",
      "輸入整數:14\n",
      "輸入整數:15\n",
      "輸入整數:16\n",
      "d=[0, 11, 12, 13, 14, 15]\n",
      "16 is not the smallest.\n"
     ]
    }
   ],
   "source": [
    "d=list(range(6))\n",
    "val = 0\n",
    "allBig = 0\n",
    "\n",
    "print(f\"d={d}\")\n",
    "\n",
    "for i in range(1,5+1):\n",
    "    d[i]=int(input(\"輸入整數:\"))\n",
    "val=int(input(\"輸入整數:\"))\n",
    "allBig = True\n",
    "\n",
    "print(f\"d={d}\")\n",
    "\n",
    "for i in range(1,5+1):\n",
    "    if d[i]> val:\n",
    "        allBig = True\n",
    "    else:\n",
    "        allBig = False \n",
    "\n",
    "if allBig == True:\n",
    "    print(\"{} is the smallest.\".format(val))\n",
    "\n",
    "else:\n",
    "    print(\"{} is not the smallest.\".format(val))\n"
   ]
  },
  {
   "cell_type": "code",
   "execution_count": 6,
   "metadata": {},
   "outputs": [
    {
     "name": "stdout",
     "output_type": "stream",
     "text": [
      "d=[0, 1, 2, 3, 4, 5]\n",
      "輸入整數:11\n",
      "輸入整數:12\n",
      "輸入整數:13\n",
      "輸入整數:14\n",
      "輸入整數:15\n",
      "輸入整數:3\n",
      "d=[0, 11, 12, 13, 14, 15]\n",
      "3 is the smallest.\n"
     ]
    }
   ],
   "source": [
    "d=list(range(6))\n",
    "val = 0\n",
    "allBig = 0\n",
    "\n",
    "print(f\"d={d}\")\n",
    "\n",
    "for i in range(1,5+1):\n",
    "    d[i]=int(input(\"輸入整數:\"))\n",
    "val=int(input(\"輸入整數:\"))\n",
    "allBig = True\n",
    "\n",
    "print(f\"d={d}\")\n",
    "\n",
    "for i in range(1,5+1):\n",
    "    if d[i]> val:\n",
    "        allBig = True\n",
    "    else:\n",
    "        allBig = False \n",
    "\n",
    "if allBig == True:\n",
    "    print(\"{} is the smallest.\".format(val))\n",
    "\n",
    "else:\n",
    "    print(\"{} is not the smallest.\".format(val))"
   ]
  },
  {
   "cell_type": "code",
   "execution_count": null,
   "metadata": {},
   "outputs": [],
   "source": []
  }
 ],
 "metadata": {
  "kernelspec": {
   "display_name": "Python 3",
   "language": "python",
   "name": "python3"
  },
  "language_info": {
   "codemirror_mode": {
    "name": "ipython",
    "version": 3
   },
   "file_extension": ".py",
   "mimetype": "text/x-python",
   "name": "python",
   "nbconvert_exporter": "python",
   "pygments_lexer": "ipython3",
   "version": "3.6.6"
  }
 },
 "nbformat": 4,
 "nbformat_minor": 2
}
