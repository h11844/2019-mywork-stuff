{
 "cells": [
  {
   "cell_type": "markdown",
   "metadata": {},
   "source": [
    "## 一、邏輯運算子 (Logic Operators)"
   ]
  },
  {
   "cell_type": "markdown",
   "metadata": {},
   "source": [
    "#### 問題描述"
   ]
  },
  {
   "cell_type": "markdown",
   "metadata": {},
   "source": [
    "#### 小蘇最近在學三種邏輯運算子 AND、OR 和 XOR。這三種運算子都是二元運算子，也就是說在運算時需要兩個運算元，例如 a AND b。對於整數a與b，以下三個二元運算子的運算結果定義如下列三個表格："
   ]
  },
  {
   "cell_type": "markdown",
   "metadata": {},
   "source": [
    "#### 舉例來說：\n",
    "\n",
    "#### (1) 0 AND 0 的結果為 0 ， 0 OR 0 以及 0 XOR 0 的結果也為 0 。\n",
    "\n",
    "#### (2) 0 AND 3 的結果為 0 ， 0 OR 3 以及 0 XOR 3 的結果則為 1 。\n",
    "\n",
    "#### (3) 4 AND 9 的結果為 1 ， 4 OR 9 的結果也為 1 ，但 4 XOR 9 的結果為 0 。"
   ]
  },
  {
   "cell_type": "code",
   "execution_count": null,
   "metadata": {},
   "outputs": [],
   "source": [
    "```\n",
    "請撰寫一個程式，讀入 a、b 以及邏輯運算的結果，輸出可能的邏輯運算為何。\n",
    "```\n",
    "輸入格式\n",
    "輸入只有一行，共三個整數值，整數間以一個空白隔開。第一個整數代表 a，第二\n",
    "個整數代表 b，這兩數均為非負的整數。第三個整數代表邏輯運算的結果，只會是 0 或 1 。\n",
    "\n",
    "輸出格式\n",
    "輸出可能得到指定結果的運算，若有多個，輸出順序為 AND、OR、XOR，每個可能\n",
    "的運算單獨輸出一行，每行結尾皆有換行。若不可能得到指定結果，輸出 IMPOSSIBLE。\n",
    "（注意輸出時所有英文字母均為大寫字母。）\n",
    "\n"
   ]
  },
  {
   "cell_type": "code",
   "execution_count": null,
   "metadata": {},
   "outputs": [],
   "source": [
    "```\n",
    "範例一：輸入\n",
    "0 0 0\n",
    "```\n",
    "```\n",
    "範例一：正確輸出\n",
    "AND\n",
    "OR\n",
    "XOR\n",
    "```\n",
    "#### 範例二：輸入\n",
    "\n",
    "#### 1 1 1\n",
    "\n",
    "#### 範例二：正確輸出\n",
    "\n",
    "#### AND\n",
    "\n",
    "#### OR\n",
    "\n",
    "#### 範例三：輸入\n",
    "\n",
    "#### 3 0 1\n",
    "\n",
    "#### 範例三：正確輸出\n",
    "\n",
    "#### OR\n",
    "\n",
    "#### XOR\n",
    "\n",
    "#### 範例四：輸入\n",
    "\n",
    "#### 0 0 1\n",
    "\n",
    "#### 範例四：正確輸出\n",
    "\n",
    "#### IMPOSSIBLE\n",
    "\n",
    "#### 評分說明\n",
    "\n",
    "輸入包含若干筆測試資料，每一筆測試資料的執行時間限制(time limit)均為 1 秒，依\n",
    "正確通過測資筆數給分。其中：\n",
    "第 1 子題組 80 分，a 和 b 的值只會是 0 或 1 。\n",
    "第 2 子題組 20 分， 0 _≤_ a, b < 10,000。"
   ]
  },
  {
   "cell_type": "code",
   "execution_count": null,
   "metadata": {},
   "outputs": [],
   "source": []
  },
  {
   "cell_type": "code",
   "execution_count": null,
   "metadata": {},
   "outputs": [],
   "source": []
  },
  {
   "cell_type": "code",
   "execution_count": 2,
   "metadata": {},
   "outputs": [
    {
     "name": "stdout",
     "output_type": "stream",
     "text": [
      "3 0 1\n"
     ]
    }
   ],
   "source": [
    "a,b,c=input().split()\n",
    "\n",
    "#a,b,c 是數字空格數字空格數字，分開"
   ]
  },
  {
   "cell_type": "code",
   "execution_count": 3,
   "metadata": {},
   "outputs": [],
   "source": [
    "a,b,c=int(a),int(b),int(c)"
   ]
  },
  {
   "cell_type": "code",
   "execution_count": 4,
   "metadata": {},
   "outputs": [
    {
     "data": {
      "text/plain": [
       "(3, 0, 1)"
      ]
     },
     "execution_count": 4,
     "metadata": {},
     "output_type": "execute_result"
    }
   ],
   "source": [
    "a,b,c"
   ]
  },
  {
   "cell_type": "code",
   "execution_count": null,
   "metadata": {},
   "outputs": [],
   "source": [
    "a,b,c= map(int,(a,b,c))\n",
    "\n",
    "#另解，使用map，同時將a,b,c變成整數"
   ]
  },
  {
   "cell_type": "code",
   "execution_count": 5,
   "metadata": {},
   "outputs": [],
   "source": [
    "if a!=0:\n",
    "    a=1\n",
    "#判斷a是否為零"
   ]
  },
  {
   "cell_type": "code",
   "execution_count": 6,
   "metadata": {},
   "outputs": [
    {
     "data": {
      "text/plain": [
       "1"
      ]
     },
     "execution_count": 6,
     "metadata": {},
     "output_type": "execute_result"
    }
   ],
   "source": [
    "a"
   ]
  },
  {
   "cell_type": "markdown",
   "metadata": {},
   "source": [
    "# 程式區"
   ]
  },
  {
   "cell_type": "code",
   "execution_count": 8,
   "metadata": {
    "scrolled": true
   },
   "outputs": [
    {
     "name": "stdout",
     "output_type": "stream",
     "text": [
      "0 0 1\n",
      "IMPOSSIBLE\n"
     ]
    }
   ],
   "source": [
    "a,b,c=input().split()\n",
    "a,b,c=int(a),int(b),int(c)\n",
    "if a!=0:\n",
    "    a=1\n",
    "if b!=0:\n",
    "    b=1\n",
    "if c!=0:\n",
    "    c=1\n",
    "if (a&b==c):\n",
    "    print(\"AND\")\n",
    "if (a|b==c):\n",
    "    print(\"OR\")\n",
    "if (a^b==c):\n",
    "    print(\"XOR\")\n",
    "if not ((a&b==c) or (a|b==c) or (a^b==c)):\n",
    "    print(\"IMPOSSIBLE\")"
   ]
  },
  {
   "cell_type": "code",
   "execution_count": 9,
   "metadata": {},
   "outputs": [
    {
     "name": "stdout",
     "output_type": "stream",
     "text": [
      "The following commands were written to file `APCS.py`:\n",
      "a,b,c=input().split()\n",
      "a,b,c=int(a),int(b),int(c)\n",
      "if a!=0:\n",
      "    a=1\n",
      "if b!=0:\n",
      "    b=1\n",
      "if c!=0:\n",
      "    c=1\n",
      "if (a&b==c):\n",
      "    print(\"AND\")\n",
      "if (a|b==c):\n",
      "    print(\"OR\")\n",
      "if (a^b==c):\n",
      "    print(\"XOR\")\n",
      "if not ((a&b==c) or (a|b==c) or (a^b==c)):\n",
      "    print(\"IMPOSSIBLE\")\n"
     ]
    }
   ],
   "source": [
    "%save APCS 2017-10-1.py 8"
   ]
  },
  {
   "cell_type": "markdown",
   "metadata": {},
   "source": [
    "# 二、交錯字串 (Alternating Strings)"
   ]
  },
  {
   "cell_type": "markdown",
   "metadata": {},
   "source": [
    "## 問題描述\n",
    "一個字串如果全由大寫英文字母組成，我們稱為大寫字串；如果全由小寫字母組成則稱為小寫字串。字串的長度是它所包含字母的個數，在本題中，字串均由大小寫英文字母組成。\n",
    "\n",
    "假設 k 是一個自然數，一個字串被稱為「k-交錯字串｣，如果它是由長度為 k 的大寫字串與長度為 k 的小寫字串交錯串接組成。舉例來說，「StRiNg｣是一個 1-交錯字串，因為它是一個大寫一個小寫交替出現；而「heLLow｣是一個 2-交錯字串，因為它是兩個小寫接兩個大寫再接兩個小寫。\n",
    "\n",
    "但不管 k是多少，「aBBaaa｣、「BaBaBB｣、「aaaAAbbCCCC｣都不是 k-交錯字串。本題的目標是對於給定 k 值，在一個輸入字串找出最長一段連續子字串滿足 k-交錯字串的要求。例如 k=2 且輸入「aBBaaa｣，最長的 k-交錯字串是「BBaa｣，長度為 4。\n",
    "\n",
    "又如 k=1 且輸入「BaBaBB｣，最長的 k-交錯字串是「BaBaB｣，長度為 5。請注意，滿足條件的子字串可能只包含一段小寫或大寫字母而無交替，如範例二。此外，也可能不存在滿足條件的子字串，如範例四。)"
   ]
  },
  {
   "cell_type": "markdown",
   "metadata": {},
   "source": [
    "##### 輸入格式\n",
    "輸入的第一行是 k，第二行是輸入字串，字串長度至少為 1，只由大小寫英文字母組\n",
    "成(A~Z, a~z)並且沒有空白。\n",
    "##### 輸出格式\n",
    "輸出輸入字串中滿足 k-交錯字串的要求的最長一段連續子字串的長度，以換行結尾。"
   ]
  },
  {
   "cell_type": "code",
   "execution_count": null,
   "metadata": {},
   "outputs": [],
   "source": []
  },
  {
   "cell_type": "code",
   "execution_count": 2,
   "metadata": {},
   "outputs": [],
   "source": [
    "st = \"aabbCCDD\""
   ]
  },
  {
   "cell_type": "code",
   "execution_count": 14,
   "metadata": {},
   "outputs": [
    {
     "data": {
      "text/plain": [
       "'aabbCCDD'"
      ]
     },
     "execution_count": 14,
     "metadata": {},
     "output_type": "execute_result"
    }
   ],
   "source": [
    "st"
   ]
  },
  {
   "cell_type": "code",
   "execution_count": null,
   "metadata": {},
   "outputs": [],
   "source": [
    "L=[]\n",
    "for i in list(input()):\n",
    "    if i.islower:\n",
    "        print(L.append(0))\n",
    "    else:\n",
    "        print(L.append(1))"
   ]
  },
  {
   "cell_type": "code",
   "execution_count": 1,
   "metadata": {},
   "outputs": [
    {
     "name": "stdout",
     "output_type": "stream",
     "text": [
      "aabbCCDD\n"
     ]
    },
    {
     "data": {
      "text/plain": [
       "['a', 'a', 'b', 'b', 'C', 'C', 'D', 'D']"
      ]
     },
     "execution_count": 1,
     "metadata": {},
     "output_type": "execute_result"
    }
   ],
   "source": [
    "list(input())"
   ]
  },
  {
   "cell_type": "code",
   "execution_count": 3,
   "metadata": {},
   "outputs": [
    {
     "data": {
      "text/plain": [
       "[False, False, False, False, True, True, True, True]"
      ]
     },
     "execution_count": 3,
     "metadata": {},
     "output_type": "execute_result"
    }
   ],
   "source": [
    "[x.isupper() for x in st]"
   ]
  },
  {
   "cell_type": "code",
   "execution_count": 4,
   "metadata": {},
   "outputs": [
    {
     "data": {
      "text/plain": [
       "[0, 0, 0, 0, 1, 1, 1, 1]"
      ]
     },
     "execution_count": 4,
     "metadata": {},
     "output_type": "execute_result"
    }
   ],
   "source": [
    "[int(x.isupper()) for x in st]\n",
    "\n",
    "#轉整數"
   ]
  },
  {
   "cell_type": "code",
   "execution_count": 5,
   "metadata": {},
   "outputs": [
    {
     "data": {
      "text/plain": [
       "['0', '0', '0', '0', '1', '1', '1', '1']"
      ]
     },
     "execution_count": 5,
     "metadata": {},
     "output_type": "execute_result"
    }
   ],
   "source": [
    "[str(int(x.isupper())) for x in st]\n",
    "\n",
    "#轉字串"
   ]
  },
  {
   "cell_type": "code",
   "execution_count": 6,
   "metadata": {},
   "outputs": [
    {
     "data": {
      "text/plain": [
       "'00001111'"
      ]
     },
     "execution_count": 6,
     "metadata": {},
     "output_type": "execute_result"
    }
   ],
   "source": [
    "''.join([str(int(x.isupper())) for x in st])\n",
    "\n",
    "#串聯"
   ]
  },
  {
   "cell_type": "code",
   "execution_count": null,
   "metadata": {},
   "outputs": [],
   "source": []
  },
  {
   "cell_type": "markdown",
   "metadata": {},
   "source": [
    "# 程式區"
   ]
  },
  {
   "cell_type": "code",
   "execution_count": null,
   "metadata": {},
   "outputs": [],
   "source": [
    "k= int(input())\n",
    "line= input()\n",
    "\n",
    "st= ''.join([str(int(x.isupper())) for x in line])\n",
    "\n",
    "pattern= [0*k ,1*k]\n",
    "p0= \"\"\n",
    "p1= \"\"\n",
    "\n",
    "c= True\n",
    "m= 0\n",
    "\n",
    "while c:\n",
    "    p0= p0+ pattern[m%2]\n",
    "    p1= p1+ pattern[(m+1)%2]\n",
    "    \n",
    "# M%2指 M/2 之餘數，欲讓M在0,1跳動\n",
    "\n",
    "    if (p0 in st) or (p1 in st):\n",
    "        m= m+1\n",
    "    else:\n",
    "        c= False\n",
    "        \n",
    "print(m*k)"
   ]
  },
  {
   "cell_type": "code",
   "execution_count": null,
   "metadata": {},
   "outputs": [],
   "source": []
  }
 ],
 "metadata": {
  "kernelspec": {
   "display_name": "Python 3",
   "language": "python",
   "name": "python3"
  },
  "language_info": {
   "codemirror_mode": {
    "name": "ipython",
    "version": 3
   },
   "file_extension": ".py",
   "mimetype": "text/x-python",
   "name": "python",
   "nbconvert_exporter": "python",
   "pygments_lexer": "ipython3",
   "version": "3.6.6"
  }
 },
 "nbformat": 4,
 "nbformat_minor": 2
}
