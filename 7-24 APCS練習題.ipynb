{
 "cells": [
  {
   "cell_type": "markdown",
   "metadata": {},
   "source": [
    "# 選擇題: 查找錯誤"
   ]
  },
  {
   "cell_type": "code",
   "execution_count": 8,
   "metadata": {},
   "outputs": [
    {
     "name": "stdout",
     "output_type": "stream",
     "text": [
      "    *\n",
      "   **\n",
      "  ***\n",
      " ****\n",
      "*****\n"
     ]
    }
   ],
   "source": [
    "k = 4\n",
    "m = 1 \n",
    "for i in range(1,5+1):\n",
    "    for j in range(1, k+1):\n",
    "        print(\" \", end='')\n",
    "    \n",
    "    for j in range(1, m+1):\n",
    "        print(\"*\", end='')\n",
    "    \n",
    "    print()\n",
    "    k=k-1\n",
    "    m=m+1\n"
   ]
  },
  {
   "cell_type": "code",
   "execution_count": 9,
   "metadata": {},
   "outputs": [
    {
     "name": "stdout",
     "output_type": "stream",
     "text": [
      "    *\n",
      "   ***\n",
      "  *****\n",
      " *******\n",
      "*********\n"
     ]
    }
   ],
   "source": [
    "# 欲打算印出三角形*\n",
    "\n",
    "k = 4\n",
    "m = 1 \n",
    "for i in range(1,5+1):\n",
    "    for j in range(1, k+1):\n",
    "        print(\" \", end='')\n",
    "    \n",
    "    for j in range(1, m+1):\n",
    "        print(\"*\", end='')\n",
    "    \n",
    "    print()\n",
    "    k=k-1\n",
    "    m=m+2\n",
    "    \n",
    "# *是由m控制"
   ]
  },
  {
   "cell_type": "markdown",
   "metadata": {},
   "source": [
    "# 函數"
   ]
  },
  {
   "cell_type": "code",
   "execution_count": 27,
   "metadata": {},
   "outputs": [],
   "source": [
    "def f(a = [], n=1):\n",
    "    index=0\n",
    "    for i in range(1,n):\n",
    "        if a[i] >= a[index]:\n",
    "            index = i\n",
    "            \n",
    "    return index\n",
    "\n",
    "# 求f(a,10)"
   ]
  },
  {
   "cell_type": "code",
   "execution_count": 28,
   "metadata": {},
   "outputs": [
    {
     "data": {
      "text/plain": [
       "7"
      ]
     },
     "execution_count": 28,
     "metadata": {},
     "output_type": "execute_result"
    }
   ],
   "source": [
    "L=[1,3,9,2,5,8,4,9,6,7]\n",
    "f(L,10)"
   ]
  },
  {
   "cell_type": "code",
   "execution_count": null,
   "metadata": {},
   "outputs": [],
   "source": [
    "# 105年3月題 No3\n",
    "# https://apcs.csie.ntnu.edu.tw/wp-content/uploads/2018/12/1050305APCSconcept.pdf"
   ]
  },
  {
   "cell_type": "code",
   "execution_count": null,
   "metadata": {},
   "outputs": [],
   "source": [
    "def f1(a, value):\n",
    "    r_value = -1\n",
    "    i = 0\n",
    "while (i < 100):\n",
    "    if a[i]== value:\n",
    "        r_value = i\n",
    "        break\n",
    "    i = i + 1\n",
    "return r_value"
   ]
  }
 ],
 "metadata": {
  "kernelspec": {
   "display_name": "Python 3",
   "language": "python",
   "name": "python3"
  },
  "language_info": {
   "codemirror_mode": {
    "name": "ipython",
    "version": 3
   },
   "file_extension": ".py",
   "mimetype": "text/x-python",
   "name": "python",
   "nbconvert_exporter": "python",
   "pygments_lexer": "ipython3",
   "version": "3.6.6"
  }
 },
 "nbformat": 4,
 "nbformat_minor": 2
}
