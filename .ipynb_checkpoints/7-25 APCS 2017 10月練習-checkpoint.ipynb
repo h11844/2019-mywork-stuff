{
 "cells": [
  {
   "cell_type": "markdown",
   "metadata": {},
   "source": [
    "## 一、邏輯運算子 (Logic Operators)"
   ]
  },
  {
   "cell_type": "markdown",
   "metadata": {},
   "source": [
    "#### 問題描述"
   ]
  },
  {
   "cell_type": "markdown",
   "metadata": {},
   "source": [
    "#### 小蘇最近在學三種邏輯運算子 AND、OR 和 XOR。這三種運算子都是二元運算子，也就是說在運算時需要兩個運算元，例如 a AND b。對於整數a與b，以下三個二元運算子的運算結果定義如下列三個表格："
   ]
  },
  {
   "cell_type": "markdown",
   "metadata": {},
   "source": [
    "#### 舉例來說：\n",
    "\n",
    "#### (1) 0 AND 0 的結果為 0 ， 0 OR 0 以及 0 XOR 0 的結果也為 0 。\n",
    "\n",
    "#### (2) 0 AND 3 的結果為 0 ， 0 OR 3 以及 0 XOR 3 的結果則為 1 。\n",
    "\n",
    "#### (3) 4 AND 9 的結果為 1 ， 4 OR 9 的結果也為 1 ，但 4 XOR 9 的結果為 0 。"
   ]
  },
  {
   "cell_type": "code",
   "execution_count": null,
   "metadata": {},
   "outputs": [],
   "source": [
    "```\n",
    "請撰寫一個程式，讀入 a、b 以及邏輯運算的結果，輸出可能的邏輯運算為何。\n",
    "```\n",
    "輸入格式\n",
    "輸入只有一行，共三個整數值，整數間以一個空白隔開。第一個整數代表 a，第二\n",
    "個整數代表 b，這兩數均為非負的整數。第三個整數代表邏輯運算的結果，只會是 0 或 1 。\n",
    "\n",
    "輸出格式\n",
    "輸出可能得到指定結果的運算，若有多個，輸出順序為 AND、OR、XOR，每個可能\n",
    "的運算單獨輸出一行，每行結尾皆有換行。若不可能得到指定結果，輸出 IMPOSSIBLE。\n",
    "（注意輸出時所有英文字母均為大寫字母。）\n",
    "\n"
   ]
  },
  {
   "cell_type": "code",
   "execution_count": null,
   "metadata": {},
   "outputs": [],
   "source": [
    "```\n",
    "範例一：輸入\n",
    "0 0 0\n",
    "```\n",
    "```\n",
    "範例一：正確輸出\n",
    "AND\n",
    "OR\n",
    "XOR\n",
    "```\n",
    "#### 範例二：輸入\n",
    "\n",
    "#### 1 1 1\n",
    "\n",
    "#### 範例二：正確輸出\n",
    "\n",
    "#### AND\n",
    "\n",
    "#### OR\n",
    "\n",
    "#### 範例三：輸入\n",
    "\n",
    "#### 3 0 1\n",
    "\n",
    "#### 範例三：正確輸出\n",
    "\n",
    "#### OR\n",
    "\n",
    "#### XOR\n",
    "\n",
    "#### 範例四：輸入\n",
    "\n",
    "#### 0 0 1\n",
    "\n",
    "#### 範例四：正確輸出\n",
    "\n",
    "#### IMPOSSIBLE\n",
    "\n",
    "#### 評分說明\n",
    "\n",
    "輸入包含若干筆測試資料，每一筆測試資料的執行時間限制(time limit)均為 1 秒，依\n",
    "正確通過測資筆數給分。其中：\n",
    "第 1 子題組 80 分，a 和 b 的值只會是 0 或 1 。\n",
    "第 2 子題組 20 分， 0 _≤_ a, b < 10,000。"
   ]
  },
  {
   "cell_type": "code",
   "execution_count": null,
   "metadata": {},
   "outputs": [],
   "source": []
  },
  {
   "cell_type": "code",
   "execution_count": null,
   "metadata": {},
   "outputs": [],
   "source": []
  },
  {
   "cell_type": "markdown",
   "metadata": {},
   "source": [
    "# 程式區"
   ]
  },
  {
   "cell_type": "code",
   "execution_count": 2,
   "metadata": {},
   "outputs": [
    {
     "name": "stdout",
     "output_type": "stream",
     "text": [
      "3 0 1\n"
     ]
    }
   ],
   "source": [
    "a,b,c=input().split()"
   ]
  },
  {
   "cell_type": "code",
   "execution_count": 3,
   "metadata": {},
   "outputs": [],
   "source": [
    "a,b,c=int(a),int(b),int(c)"
   ]
  },
  {
   "cell_type": "code",
   "execution_count": 4,
   "metadata": {},
   "outputs": [
    {
     "data": {
      "text/plain": [
       "(3, 0, 1)"
      ]
     },
     "execution_count": 4,
     "metadata": {},
     "output_type": "execute_result"
    }
   ],
   "source": [
    "a,b,c"
   ]
  },
  {
   "cell_type": "code",
   "execution_count": null,
   "metadata": {},
   "outputs": [],
   "source": [
    "a,b,c= map(int,(a,b,c))\n",
    "\n",
    "#另解"
   ]
  },
  {
   "cell_type": "code",
   "execution_count": 5,
   "metadata": {},
   "outputs": [],
   "source": [
    "if a!=0:\n",
    "    a=1\n",
    "#判斷a是否為零"
   ]
  },
  {
   "cell_type": "code",
   "execution_count": 6,
   "metadata": {},
   "outputs": [
    {
     "data": {
      "text/plain": [
       "1"
      ]
     },
     "execution_count": 6,
     "metadata": {},
     "output_type": "execute_result"
    }
   ],
   "source": [
    "a"
   ]
  },
  {
   "cell_type": "code",
   "execution_count": null,
   "metadata": {},
   "outputs": [],
   "source": []
  },
  {
   "cell_type": "code",
   "execution_count": null,
   "metadata": {},
   "outputs": [],
   "source": [
    "a,b,c=input().split()\n",
    "a,b,c=int(a),int(b),int(c)\n",
    "if a!=0:\n",
    "    a=1\n",
    "if b!=0:\n",
    "    b=1\n",
    "if c!=0:\n",
    "    c=1"
   ]
  }
 ],
 "metadata": {
  "kernelspec": {
   "display_name": "Python 3",
   "language": "python",
   "name": "python3"
  },
  "language_info": {
   "codemirror_mode": {
    "name": "ipython",
    "version": 3
   },
   "file_extension": ".py",
   "mimetype": "text/x-python",
   "name": "python",
   "nbconvert_exporter": "python",
   "pygments_lexer": "ipython3",
   "version": "3.6.6"
  }
 },
 "nbformat": 4,
 "nbformat_minor": 2
}
