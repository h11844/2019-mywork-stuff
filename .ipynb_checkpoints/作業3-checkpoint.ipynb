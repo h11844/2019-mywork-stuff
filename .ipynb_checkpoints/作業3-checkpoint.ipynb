{
 "cells": [
  {
   "cell_type": "code",
   "execution_count": 5,
   "metadata": {},
   "outputs": [
    {
     "name": "stdout",
     "output_type": "stream",
     "text": [
      "108-5月平均薪資:\n"
     ]
    },
    {
     "data": {
      "application/vnd.jupyter.widget-view+json": {
       "model_id": "040506cd6abc48d289d212c1814d8a96",
       "version_major": 2,
       "version_minor": 0
      },
      "text/plain": [
       "interactive(children=(Dropdown(description='行業別', options=('礦業及土石採取業46611元', '製造業48419元', '電力及燃氣供應業187262元', '…"
      ]
     },
     "metadata": {},
     "output_type": "display_data"
    }
   ],
   "source": [
    "from ipywidgets import interact_manual\n",
    "print(\"108-5月平均薪資:\")\n",
    "def f(行業別):\n",
    "    print(行業別)\n",
    "interact_manual(f,行業別=[\"礦業及土石採取業\"+\"46611元\",\"製造業\"+\"48419元\",\"電力及燃氣供應業\"+\"187262元\",\"用水供應及污染整治業\"+\"39301元\",\"營建工程業\"+\"42244元\",\"批發及零售業\"+\"46089元\",\"運輸及倉儲業\"+\"50326元\",\"住宿及餐飲業\"+\"32479元\",\"出版、影音製作、傳播及資通訊服務業\"+\"67363元\",\"金融及保險業\"+\"96934元\",\"不動產業\"+\"44503元\",\"專業、科學及技術服務業\"+\"54117元\",\"支援服務業\"+\"36046元\",\"教育業(不含各級公私立學校等)\"+\"25473元\",\"醫療保健業\"+\"63757元\",\"藝術、娛樂及休閒服務業\"+\"37609元\",\"其他服務業\"+\"34265元\"]);\n",
    "\n"
   ]
  },
  {
   "cell_type": "code",
   "execution_count": 8,
   "metadata": {},
   "outputs": [
    {
     "name": "stdout",
     "output_type": "stream",
     "text": [
      "108-5月平均薪資:\n",
      "請輸入行業別:其他服務業\n",
      "34265元\n"
     ]
    }
   ],
   "source": [
    "A=str(\"礦業及土石採取業\")\n",
    "B=str(\"製造業\")\n",
    "C=str(\"電力及燃氣供應業\")\n",
    "D=str(\"用水供應及污染整治業\")\n",
    "E=str(\"營建工程業\")\n",
    "F=str(\"批發及零售業\")\n",
    "G=str(\"運輸及倉儲業\")\n",
    "H=str(\"住宿及餐飲業\")\n",
    "I=str(\"出版、影音製作、傳播及資通訊服務業\")\n",
    "J=str(\"金融及保險業\")\n",
    "K=str(\"不動產業\")\n",
    "L=str(\"專業、科學及技術服務業\")\n",
    "M=str(\"支援服務業\")\n",
    "N=str(\"教育業(不含各級公私立學校等)\")\n",
    "O=str(\"醫療保健業\")\n",
    "P=str(\"藝術、娛樂及休閒服務業\")\n",
    "Q=str(\"其他服務業\")\n",
    "print(\"108-5月平均薪資:\")\n",
    "Job=str(input(\"請輸入行業別:\"))\n",
    "if Job== \"礦業及土石採取業\":\n",
    "    print(\"46611元\")\n",
    "elif Job== \"製造業\":\n",
    "    print(\"48419元\")\n",
    "elif Job== \"電力及燃氣供應業\":\n",
    "    print(\"187262元\")\n",
    "elif Job== \"用水供應及污染整治業\":\n",
    "    print(\"39301元\")\n",
    "elif Job== \"營建工程業\":\n",
    "    print(\"42244元\")\n",
    "elif Job== \"批發及零售業\":\n",
    "    print(\"46089元\")\n",
    "elif Job== \"運輸及倉儲業\":\n",
    "    print(\"50326元\")\n",
    "elif Job== \"住宿及餐飲業\":\n",
    "    print(\"32479元\")\n",
    "elif Job== \"出版、影音製作、傳播及資通訊服務業\":\n",
    "    print(\"67363元\")\n",
    "elif Job== \"金融及保險業\":\n",
    "    print(\"96934元\")\n",
    "elif Job== \"不動產業\":\n",
    "    print(\"44503元\")\n",
    "elif Job== \"專業、科學及技術服務業\":\n",
    "    print(\"54117元\")\n",
    "elif Job== \"支援服務業\":\n",
    "    print(\"36046元\")\n",
    "elif Job== \"教育業(不含各級公私立學校等)\":\n",
    "    print(\"25473元\")\n",
    "elif Job== \"醫療保健業\":\n",
    "    print(\"63757元\")\n",
    "elif Job== \"藝術、娛樂及休閒服務業\":\n",
    "    print(\"37609元\")\n",
    "elif Job== \"其他服務業\":\n",
    "    print(\"34265元\")\n",
    "else:\n",
    "    print(\"請上主計處網頁查詢\")"
   ]
  },
  {
   "cell_type": "code",
   "execution_count": null,
   "metadata": {},
   "outputs": [],
   "source": []
  }
 ],
 "metadata": {
  "kernelspec": {
   "display_name": "Python 3",
   "language": "python",
   "name": "python3"
  },
  "language_info": {
   "codemirror_mode": {
    "name": "ipython",
    "version": 3
   },
   "file_extension": ".py",
   "mimetype": "text/x-python",
   "name": "python",
   "nbconvert_exporter": "python",
   "pygments_lexer": "ipython3",
   "version": "3.6.6"
  }
 },
 "nbformat": 4,
 "nbformat_minor": 2
}
