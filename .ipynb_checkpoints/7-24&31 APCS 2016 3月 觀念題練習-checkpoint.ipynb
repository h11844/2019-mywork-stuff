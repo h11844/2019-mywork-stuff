{
 "cells": [
  {
   "cell_type": "markdown",
   "metadata": {},
   "source": [
    "# 選擇題: 查找錯誤"
   ]
  },
  {
   "cell_type": "code",
   "execution_count": 8,
   "metadata": {},
   "outputs": [
    {
     "name": "stdout",
     "output_type": "stream",
     "text": [
      "    *\n",
      "   **\n",
      "  ***\n",
      " ****\n",
      "*****\n"
     ]
    }
   ],
   "source": [
    "k = 4\n",
    "m = 1 \n",
    "for i in range(1,5+1):\n",
    "    for j in range(1, k+1):\n",
    "        print(\" \", end='')\n",
    "    \n",
    "    for j in range(1, m+1):\n",
    "        print(\"*\", end='')\n",
    "    \n",
    "    print()\n",
    "    k=k-1\n",
    "    m=m+1\n"
   ]
  },
  {
   "cell_type": "code",
   "execution_count": 9,
   "metadata": {},
   "outputs": [
    {
     "name": "stdout",
     "output_type": "stream",
     "text": [
      "    *\n",
      "   ***\n",
      "  *****\n",
      " *******\n",
      "*********\n"
     ]
    }
   ],
   "source": [
    "# 欲打算印出三角形*\n",
    "\n",
    "k = 4\n",
    "m = 1 \n",
    "for i in range(1,5+1):\n",
    "    for j in range(1, k+1):\n",
    "        print(\" \", end='')\n",
    "    \n",
    "    for j in range(1, m+1):\n",
    "        print(\"*\", end='')\n",
    "    \n",
    "    print()\n",
    "    k=k-1\n",
    "    m=m+2\n",
    "    \n",
    "# *是由m控制"
   ]
  },
  {
   "cell_type": "markdown",
   "metadata": {},
   "source": [
    "# 函數"
   ]
  },
  {
   "cell_type": "code",
   "execution_count": 27,
   "metadata": {},
   "outputs": [],
   "source": [
    "def f(a = [], n=1):\n",
    "    index=0\n",
    "    for i in range(1,n):\n",
    "        if a[i] >= a[index]:\n",
    "            index = i\n",
    "            \n",
    "    return index\n",
    "\n",
    "# 求f(a,10)"
   ]
  },
  {
   "cell_type": "code",
   "execution_count": 28,
   "metadata": {},
   "outputs": [
    {
     "data": {
      "text/plain": [
       "7"
      ]
     },
     "execution_count": 28,
     "metadata": {},
     "output_type": "execute_result"
    }
   ],
   "source": [
    "L=[1,3,9,2,5,8,4,9,6,7]\n",
    "f(L,10)"
   ]
  },
  {
   "cell_type": "code",
   "execution_count": null,
   "metadata": {},
   "outputs": [],
   "source": [
    "# 105年3月題 No3\n",
    "# https://apcs.csie.ntnu.edu.tw/wp-content/uploads/2018/12/1050305APCSconcept.pdf"
   ]
  },
  {
   "cell_type": "code",
   "execution_count": null,
   "metadata": {},
   "outputs": [],
   "source": [
    "def f1(a, value):\n",
    "    r_value = -1\n",
    "    i = 0\n",
    "while (i < 100):\n",
    "    if a[i]== value:\n",
    "        r_value = i\n",
    "        break\n",
    "    i = i + 1\n",
    "return r_value"
   ]
  },
  {
   "cell_type": "code",
   "execution_count": null,
   "metadata": {},
   "outputs": [],
   "source": [
    "# No4"
   ]
  },
  {
   "cell_type": "code",
   "execution_count": 89,
   "metadata": {},
   "outputs": [
    {
     "name": "stdout",
     "output_type": "stream",
     "text": [
      "810\n"
     ]
    }
   ],
   "source": [
    "b= list(range(101))\n",
    "a=[0]\n",
    "\n",
    "for i in range(1,100+1):\n",
    "    a.append(b[i]+a[i-1])\n",
    "#   a[i]=b[i]+a[i-1]\n",
    "print(a[50]-a[30])\n",
    "\n",
    "#一直追加 a[i]=b[i]+a[i-1]，所以用append"
   ]
  },
  {
   "cell_type": "code",
   "execution_count": 91,
   "metadata": {},
   "outputs": [
    {
     "name": "stdout",
     "output_type": "stream",
     "text": [
      "810\n"
     ]
    }
   ],
   "source": [
    "b= list(range(101))\n",
    "a= list(range(101))\n",
    "\n",
    "for i in range(1,100+1):\n",
    "    a[i]=b[i]+a[i-1]\n",
    "\n",
    "print(a[50]-a[30])"
   ]
  },
  {
   "cell_type": "code",
   "execution_count": null,
   "metadata": {},
   "outputs": [],
   "source": [
    "a50=b50+a49\n",
    "        a49=b49+a48\n",
    "50+49+48+47+...... \n",
    "\n",
    "\n",
    "a30=b30+a29\n",
    "        a29=b29+a28\n",
    "30+29+28+27+......\n",
    "\n",
    "a50-a30=50+49+......+32+31\n",
    "\n",
    "(31+50)20*0.5"
   ]
  },
  {
   "cell_type": "code",
   "execution_count": 74,
   "metadata": {},
   "outputs": [
    {
     "data": {
      "text/plain": [
       "810"
      ]
     },
     "execution_count": 74,
     "metadata": {},
     "output_type": "execute_result"
    }
   ],
   "source": [
    "(31+50)*10"
   ]
  },
  {
   "cell_type": "code",
   "execution_count": null,
   "metadata": {},
   "outputs": [],
   "source": [
    "# No7"
   ]
  },
  {
   "cell_type": "code",
   "execution_count": 97,
   "metadata": {},
   "outputs": [],
   "source": [
    "def  a(n=0, m=0):\n",
    "    if n < 10:\n",
    "        if m < 10:\n",
    "            return n + m \n",
    "        else:\n",
    "            return a(n, m-2) + m\n",
    "    else:\n",
    "        return a(n-1, m) + n"
   ]
  },
  {
   "cell_type": "code",
   "execution_count": 98,
   "metadata": {},
   "outputs": [
    {
     "data": {
      "text/plain": [
       "103"
      ]
     },
     "execution_count": 98,
     "metadata": {},
     "output_type": "execute_result"
    }
   ],
   "source": [
    "a(13,15)"
   ]
  },
  {
   "cell_type": "code",
   "execution_count": 1,
   "metadata": {},
   "outputs": [],
   "source": [
    "# N05"
   ]
  },
  {
   "cell_type": "code",
   "execution_count": 36,
   "metadata": {},
   "outputs": [],
   "source": [
    "def f(n):\n",
    "    sum= 0\n",
    "    if (n<2):\n",
    "        return 0\n",
    "    for i in range(i,n+1):\n",
    "        sum = sum + i\n",
    "    if i<= n:\n",
    "        sum = sum + f(2*n/3)\n",
    "    return sum"
   ]
  },
  {
   "cell_type": "code",
   "execution_count": 38,
   "metadata": {},
   "outputs": [],
   "source": [
    "# N08"
   ]
  },
  {
   "cell_type": "code",
   "execution_count": null,
   "metadata": {},
   "outputs": [],
   "source": [
    "A[i] = 2 + i*4;\n",
    "B[i] = i*5;\n",
    "(i=1; i<=4; i=i+1) \n",
    "\n",
    "A[1]=6\n",
    "B[1]=5\n",
    "A[2]=10\n",
    "B[2]=10\n",
    "A[3]=14\n",
    "B[3]=15\n",
    "A[4]=18\n",
    "B[4]=20"
   ]
  },
  {
   "cell_type": "code",
   "execution_count": 58,
   "metadata": {},
   "outputs": [],
   "source": [
    "A=[0]*5\n",
    "B=[0]*5\n",
    "\n",
    "for i in range(1,4+1):\n",
    "    A[i]= 2 + i*4\n",
    "    B[i]=(i*5)"
   ]
  },
  {
   "cell_type": "code",
   "execution_count": 46,
   "metadata": {},
   "outputs": [
    {
     "data": {
      "text/plain": [
       "[0, 6, 10, 14, 18]"
      ]
     },
     "execution_count": 46,
     "metadata": {},
     "output_type": "execute_result"
    }
   ],
   "source": [
    "A"
   ]
  },
  {
   "cell_type": "code",
   "execution_count": 59,
   "metadata": {},
   "outputs": [
    {
     "data": {
      "text/plain": [
       "[0, 5, 10, 15, 20]"
      ]
     },
     "execution_count": 59,
     "metadata": {},
     "output_type": "execute_result"
    }
   ],
   "source": [
    "B"
   ]
  },
  {
   "cell_type": "code",
   "execution_count": 60,
   "metadata": {},
   "outputs": [
    {
     "name": "stdout",
     "output_type": "stream",
     "text": [
      "4\n"
     ]
    }
   ],
   "source": [
    "c=0\n",
    "for i in range(1, 5):\n",
    "    if (B[i] > A[i]):\n",
    "        c= c + (B[i] % A[i])\n",
    "    else:\n",
    "        c=1\n",
    "print(c)"
   ]
  },
  {
   "cell_type": "markdown",
   "metadata": {},
   "source": [
    "### no.19 \n",
    "    大部分程式語言都是以列為主的方式儲存陣列。在一個 8x4 的陣列(array) A 裡，\n",
    "    若每個元素需要兩單位的記憶體大小，且若 A[0][0]的記憶體位址為 108 (十進制表示)，\n",
    "    則 A[1][2]的記憶體位址為何？\n",
    "\n",
    "\"\"\"(A) 120\"\"\"\n",
    "\n",
    "(B) 124\n",
    "(C) 128\n",
    "(D) 以上皆非"
   ]
  },
  {
   "cell_type": "code",
   "execution_count": null,
   "metadata": {},
   "outputs": [],
   "source": []
  }
 ],
 "metadata": {
  "kernelspec": {
   "display_name": "Python 3",
   "language": "python",
   "name": "python3"
  },
  "language_info": {
   "codemirror_mode": {
    "name": "ipython",
    "version": 3
   },
   "file_extension": ".py",
   "mimetype": "text/x-python",
   "name": "python",
   "nbconvert_exporter": "python",
   "pygments_lexer": "ipython3",
   "version": "3.6.6"
  }
 },
 "nbformat": 4,
 "nbformat_minor": 2
}
