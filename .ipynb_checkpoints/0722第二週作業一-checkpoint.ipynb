{
 "cells": [
  {
   "cell_type": "code",
   "execution_count": 2,
   "metadata": {},
   "outputs": [
    {
     "ename": "SyntaxError",
     "evalue": "invalid syntax (<ipython-input-2-ab5778e03fbc>, line 5)",
     "output_type": "error",
     "traceback": [
      "\u001b[1;36m  File \u001b[1;32m\"<ipython-input-2-ab5778e03fbc>\"\u001b[1;36m, line \u001b[1;32m5\u001b[0m\n\u001b[1;33m    interact_manual(f,行業別={\"礦業及土石採取業\":\"46611元\",\"製造業\"+\"48419元\",\"電力及燃氣供應業\"+\"187262元\",\"用水供應及污染整治業\"+\"39301元\",\"營建工程業\"+\"42244元\",\"批發及零售業\"+\"46089元\",\"運輸及倉儲業\"+\"50326元\",\"住宿及餐飲業\"+\"32479元\",\"出版、影音製作、傳播及資通訊服務業\"+\"67363元\",\"金融及保險業\"+\"96934元\",\"不動產業\"+\"44503元\",\"專業、科學及技術服務業\"+\"54117元\",\"支援服務業\"+\"36046元\",\"教育業(不含各級公私立學校等)\"+\"25473元\",\"醫療保健業\"+\"63757元\",\"藝術、娛樂及休閒服務業\"+\"37609元\",\"其他服務業\"+\"34265元\"});\u001b[0m\n\u001b[1;37m                                                             ^\u001b[0m\n\u001b[1;31mSyntaxError\u001b[0m\u001b[1;31m:\u001b[0m invalid syntax\n"
     ]
    }
   ],
   "source": [
    "from ipywidgets import interact_manual\n",
    "print(\"108-5月平均薪資:\")\n",
    "def f(行業別):\n",
    "    print(行業別)\n",
    "interact_manual(f,行業別={\"礦業及土石採取業\":\"46611元\",\n",
    "                       \"製造業\":\"48419元\",\n",
    "                       \"電力及燃氣供應業\":\"187262元\",\n",
    "                       \"用水供應及污染整治業\":\"39301元\",\n",
    "                       \"營建工程業\":\"42244元\",\n",
    "                       \"批發及零售業\":\"46089元\",\n",
    "                       \"運輸及倉儲業\":\"50326元\",\n",
    "                       \"住宿及餐飲業\":\"32479元\",\n",
    "                       \"出版、影音製作、傳播及資通訊服務業\":\"67363元\",\n",
    "                       \"金融及保險業\":\"96934元\",\n",
    "                       \"不動產業\":\"44503元\",\n",
    "                       \"專業、科學及技術服務業\":\"54117元\",\n",
    "                       \"支援服務業\":\"36046元\",\n",
    "                       \"教育業(不含各級公私立學校等)\":\"25473元\",\n",
    "                       \"醫療保健業\":\"63757元\",\n",
    "                       \"藝術、娛樂及休閒服務業\":\"37609元\",\n",
    "                       \"其他服務業\":\"34265元\"});"
   ]
  },
  {
   "cell_type": "code",
   "execution_count": null,
   "metadata": {},
   "outputs": [],
   "source": []
  }
 ],
 "metadata": {
  "kernelspec": {
   "display_name": "Python 3",
   "language": "python",
   "name": "python3"
  },
  "language_info": {
   "codemirror_mode": {
    "name": "ipython",
    "version": 3
   },
   "file_extension": ".py",
   "mimetype": "text/x-python",
   "name": "python",
   "nbconvert_exporter": "python",
   "pygments_lexer": "ipython3",
   "version": "3.6.6"
  }
 },
 "nbformat": 4,
 "nbformat_minor": 2
}
