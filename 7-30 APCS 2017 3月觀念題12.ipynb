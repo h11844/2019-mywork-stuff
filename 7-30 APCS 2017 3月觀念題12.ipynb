{
 "cells": [
  {
   "cell_type": "markdown",
   "metadata": {},
   "source": [
    "# 7-30 APCS 2017 3月觀念題\n",
    "https://apcs.csie.ntnu.edu.tw/wp-content/uploads/2018/12/1060304APCSconcept.pdf"
   ]
  },
  {
   "cell_type": "markdown",
   "metadata": {},
   "source": [
    "### no.12"
   ]
  },
  {
   "cell_type": "code",
   "execution_count": null,
   "metadata": {},
   "outputs": [],
   "source": [
    "#no.12(可以直接做出符合題目需求的函式)"
   ]
  },
  {
   "cell_type": "code",
   "execution_count": 1,
   "metadata": {},
   "outputs": [
    {
     "data": {
      "text/plain": [
       "8260"
      ]
     },
     "execution_count": 1,
     "metadata": {},
     "output_type": "execute_result"
    }
   ],
   "source": [
    "from random import randint\n",
    "randint(0,10000)"
   ]
  },
  {
   "cell_type": "code",
   "execution_count": 2,
   "metadata": {},
   "outputs": [
    {
     "data": {
      "text/plain": [
       "433"
      ]
     },
     "execution_count": 2,
     "metadata": {},
     "output_type": "execute_result"
    }
   ],
   "source": [
    "def rand():\n",
    "    return randint(0,10000)\n",
    "((rand()% 901) + 100)"
   ]
  },
  {
   "cell_type": "markdown",
   "metadata": {},
   "source": [
    "### no.13"
   ]
  },
  {
   "cell_type": "code",
   "execution_count": 3,
   "metadata": {},
   "outputs": [
    {
     "name": "stdout",
     "output_type": "stream",
     "text": [
      "Hi! count =1, i=0\n",
      "Hi! count =2, i=5\n",
      "Hi! count =3, i=10\n",
      "Hi! count =4, i=15\n",
      "Hi! count =5, i=20\n",
      "Hi! count =6, i=25\n",
      "Hi! count =7, i=30\n",
      "Hi! count =8, i=35\n",
      "Hi! count =9, i=40\n",
      "Hi! count =10, i=45\n",
      "Hi! count =11, i=50\n",
      "Hi! count =12, i=55\n",
      "Hi! count =13, i=60\n",
      "Hi! count =14, i=65\n",
      "Hi! count =15, i=70\n",
      "Hi! count =16, i=75\n",
      "Hi! count =17, i=80\n",
      "Hi! count =18, i=85\n",
      "Hi! count =19, i=90\n",
      "Hi! count =20, i=95\n",
      "Hi! count =21, i=100\n"
     ]
    }
   ],
   "source": [
    "count=0\n",
    "for i in range(0, 100+1, 5 ):\n",
    "    count= count +1    #埋計數器輔助計算次數\n",
    "    print(f\"Hi! count ={count}, i={i}\")"
   ]
  },
  {
   "cell_type": "markdown",
   "metadata": {},
   "source": [
    "### no.15"
   ]
  },
  {
   "cell_type": "code",
   "execution_count": 8,
   "metadata": {},
   "outputs": [],
   "source": [
    "def F(a=0):\n",
    "    while a < 10: \n",
    "        a = a + 5\n",
    "        print(\"a<10\")   #自己加，輔助辨認\n",
    "    if a < 12:\n",
    "        a = a + 2\n",
    "        print(\"a=a+2\")\n",
    "    if a <= 11:\n",
    "        a = 5\n",
    "        print(\"a=5\")"
   ]
  },
  {
   "cell_type": "code",
   "execution_count": 11,
   "metadata": {},
   "outputs": [
    {
     "name": "stdout",
     "output_type": "stream",
     "text": [
      "a<10\n",
      "a<10\n",
      "a=a+2\n"
     ]
    }
   ],
   "source": [
    "F(1)"
   ]
  },
  {
   "cell_type": "code",
   "execution_count": 12,
   "metadata": {},
   "outputs": [
    {
     "name": "stdout",
     "output_type": "stream",
     "text": [
      "a=a+2\n"
     ]
    }
   ],
   "source": [
    "F(11)"
   ]
  },
  {
   "cell_type": "markdown",
   "metadata": {},
   "source": [
    "### no.23 \n",
    "程式執行時，程式中的變數值是存放在\n",
    "\n",
    "\n",
    "\"\"\"(A) 記憶體\"\"\"\n",
    "\n",
    "\n",
    "(B) 硬碟\n",
    "(C) 輸出入裝置\n",
    "(D) 匯流排"
   ]
  },
  {
   "cell_type": "markdown",
   "metadata": {},
   "source": [
    "### no.24\n",
    "\n",
    "程式執行過程中，若變數發生溢位情形，其主要原因為何？\n",
    "\n",
    "\"\"\"(A) 以有限數目的位元儲存變數值\"\"\"\n",
    "\n",
    "\n",
    "(B) 電壓不穩定\n",
    "(C) 作業系統與程式不甚相容\n",
    "(D) 變數過多導致編譯器無法完全處理"
   ]
  },
  {
   "cell_type": "code",
   "execution_count": null,
   "metadata": {},
   "outputs": [],
   "source": []
  }
 ],
 "metadata": {
  "kernelspec": {
   "display_name": "Python 3",
   "language": "python",
   "name": "python3"
  }
 },
 "nbformat": 4,
 "nbformat_minor": 2
}
