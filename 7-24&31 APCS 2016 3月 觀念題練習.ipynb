{
 "cells": [
  {
   "cell_type": "markdown",
   "metadata": {},
   "source": [
    "#  APCS 2016 3月 \n",
    "https://apcs.csie.ntnu.edu.tw/wp-content/uploads/2018/12/1050305APCSconcept.pdf"
   ]
  },
  {
   "cell_type": "markdown",
   "metadata": {},
   "source": [
    "### no.1選擇題: 查找錯誤"
   ]
  },
  {
   "cell_type": "code",
   "execution_count": 8,
   "metadata": {},
   "outputs": [
    {
     "name": "stdout",
     "output_type": "stream",
     "text": [
      "    *\n",
      "   **\n",
      "  ***\n",
      " ****\n",
      "*****\n"
     ]
    }
   ],
   "source": [
    "k = 4\n",
    "m = 1 \n",
    "for i in range(1,5+1):\n",
    "    for j in range(1, k+1):\n",
    "        print(\" \", end='')\n",
    "    \n",
    "    for j in range(1, m+1):\n",
    "        print(\"*\", end='')\n",
    "    \n",
    "    print()\n",
    "    k=k-1\n",
    "    m=m+1\n"
   ]
  },
  {
   "cell_type": "code",
   "execution_count": 9,
   "metadata": {},
   "outputs": [
    {
     "name": "stdout",
     "output_type": "stream",
     "text": [
      "    *\n",
      "   ***\n",
      "  *****\n",
      " *******\n",
      "*********\n"
     ]
    }
   ],
   "source": [
    "# 欲打算印出三角形*\n",
    "\n",
    "k = 4\n",
    "m = 1 \n",
    "for i in range(1,5+1):\n",
    "    for j in range(1, k+1):\n",
    "        print(\" \", end='')\n",
    "    \n",
    "    for j in range(1, m+1):\n",
    "        print(\"*\", end='')\n",
    "    \n",
    "    print()\n",
    "    k=k-1\n",
    "    m=m+2\n",
    "    \n",
    "# *是由m控制"
   ]
  },
  {
   "cell_type": "markdown",
   "metadata": {},
   "source": [
    "### no.2函數"
   ]
  },
  {
   "cell_type": "code",
   "execution_count": 27,
   "metadata": {},
   "outputs": [],
   "source": [
    "def f(a = [], n=1):\n",
    "    index=0\n",
    "    for i in range(1,n):\n",
    "        if a[i] >= a[index]:\n",
    "            index = i\n",
    "            \n",
    "    return index\n",
    "\n",
    "# 求f(a,10)"
   ]
  },
  {
   "cell_type": "code",
   "execution_count": 28,
   "metadata": {},
   "outputs": [
    {
     "data": {
      "text/plain": [
       "7"
      ]
     },
     "execution_count": 28,
     "metadata": {},
     "output_type": "execute_result"
    }
   ],
   "source": [
    "L=[1,3,9,2,5,8,4,9,6,7]\n",
    "f(L,10)"
   ]
  },
  {
   "cell_type": "markdown",
   "metadata": {},
   "source": [
    "# no.3"
   ]
  },
  {
   "cell_type": "code",
   "execution_count": null,
   "metadata": {},
   "outputs": [],
   "source": [
    "def f1(a, value):\n",
    "    r_value = -1\n",
    "    i = 0\n",
    "while (i < 100):\n",
    "    if a[i]== value:\n",
    "        r_value = i\n",
    "        break\n",
    "    i = i + 1\n",
    "return r_value"
   ]
  },
  {
   "cell_type": "markdown",
   "metadata": {},
   "source": [
    "### no.4"
   ]
  },
  {
   "cell_type": "code",
   "execution_count": 89,
   "metadata": {},
   "outputs": [
    {
     "name": "stdout",
     "output_type": "stream",
     "text": [
      "810\n"
     ]
    }
   ],
   "source": [
    "b= list(range(101))\n",
    "a=[0]\n",
    "\n",
    "for i in range(1,100+1):\n",
    "    a.append(b[i]+a[i-1])\n",
    "#   a[i]=b[i]+a[i-1]\n",
    "print(a[50]-a[30])\n",
    "\n",
    "#一直追加 a[i]=b[i]+a[i-1]，所以用append"
   ]
  },
  {
   "cell_type": "code",
   "execution_count": 91,
   "metadata": {},
   "outputs": [
    {
     "name": "stdout",
     "output_type": "stream",
     "text": [
      "810\n"
     ]
    }
   ],
   "source": [
    "b= list(range(101))\n",
    "a= list(range(101))\n",
    "\n",
    "for i in range(1,100+1):\n",
    "    a[i]=b[i]+a[i-1]\n",
    "\n",
    "print(a[50]-a[30])"
   ]
  },
  {
   "cell_type": "code",
   "execution_count": null,
   "metadata": {},
   "outputs": [],
   "source": [
    "a50=b50+a49\n",
    "        a49=b49+a48\n",
    "50+49+48+47+...... \n",
    "\n",
    "\n",
    "a30=b30+a29\n",
    "        a29=b29+a28\n",
    "30+29+28+27+......\n",
    "\n",
    "a50-a30=50+49+......+32+31\n",
    "\n",
    "(31+50)20*0.5"
   ]
  },
  {
   "cell_type": "code",
   "execution_count": 74,
   "metadata": {},
   "outputs": [
    {
     "data": {
      "text/plain": [
       "810"
      ]
     },
     "execution_count": 74,
     "metadata": {},
     "output_type": "execute_result"
    }
   ],
   "source": [
    "(31+50)*10"
   ]
  },
  {
   "cell_type": "markdown",
   "metadata": {},
   "source": [
    "### no.5"
   ]
  },
  {
   "cell_type": "code",
   "execution_count": 36,
   "metadata": {},
   "outputs": [],
   "source": [
    "def f(n):\n",
    "    sum= 0\n",
    "    if (n<2):\n",
    "        return 0\n",
    "    for i in range(i,n+1):\n",
    "        sum = sum + i\n",
    "    if i<= n:\n",
    "        sum = sum + f(2*n/3)\n",
    "    return sum"
   ]
  },
  {
   "cell_type": "markdown",
   "metadata": {},
   "source": [
    "### no.6"
   ]
  },
  {
   "cell_type": "code",
   "execution_count": 1,
   "metadata": {},
   "outputs": [],
   "source": [
    "class Element():\n",
    "    def __init__(self, data= '', nextindex= -1):\n",
    "        self.data= data\n",
    "        self.nextindex= nextindex"
   ]
  },
  {
   "cell_type": "code",
   "execution_count": 3,
   "metadata": {},
   "outputs": [
    {
     "name": "stdout",
     "output_type": "stream",
     "text": [
      "a 2\n",
      "b -1\n",
      "c 1\n"
     ]
    }
   ],
   "source": [
    "E= Element(\"a\",2)\n",
    "R= Element(\"b\",-1)\n",
    "S= Element(\"c\",1)\n",
    "\n",
    "LIST= [E, R, S]\n",
    "\n",
    "for ele in LIST:\n",
    "    print(ele.data, ele.nextindex)"
   ]
  },
  {
   "cell_type": "markdown",
   "metadata": {},
   "source": [
    "### no.7"
   ]
  },
  {
   "cell_type": "code",
   "execution_count": 97,
   "metadata": {},
   "outputs": [],
   "source": [
    "def  a(n=0, m=0):\n",
    "    if n < 10:\n",
    "        if m < 10:\n",
    "            return n + m \n",
    "        else:\n",
    "            return a(n, m-2) + m\n",
    "    else:\n",
    "        return a(n-1, m) + n"
   ]
  },
  {
   "cell_type": "code",
   "execution_count": 98,
   "metadata": {},
   "outputs": [
    {
     "data": {
      "text/plain": [
       "103"
      ]
     },
     "execution_count": 98,
     "metadata": {},
     "output_type": "execute_result"
    }
   ],
   "source": [
    "a(13,15)"
   ]
  },
  {
   "cell_type": "markdown",
   "metadata": {},
   "source": [
    "### no.8"
   ]
  },
  {
   "cell_type": "code",
   "execution_count": null,
   "metadata": {},
   "outputs": [],
   "source": [
    "A[i] = 2 + i*4;\n",
    "B[i] = i*5;\n",
    "(i=1; i<=4; i=i+1) \n",
    "\n",
    "A[1]=6\n",
    "B[1]=5\n",
    "A[2]=10\n",
    "B[2]=10\n",
    "A[3]=14\n",
    "B[3]=15\n",
    "A[4]=18\n",
    "B[4]=20"
   ]
  },
  {
   "cell_type": "code",
   "execution_count": 58,
   "metadata": {},
   "outputs": [],
   "source": [
    "A=[0]*5\n",
    "B=[0]*5\n",
    "\n",
    "for i in range(1,4+1):\n",
    "    A[i]= 2 + i*4\n",
    "    B[i]=(i*5)"
   ]
  },
  {
   "cell_type": "code",
   "execution_count": 46,
   "metadata": {},
   "outputs": [
    {
     "data": {
      "text/plain": [
       "[0, 6, 10, 14, 18]"
      ]
     },
     "execution_count": 46,
     "metadata": {},
     "output_type": "execute_result"
    }
   ],
   "source": [
    "A"
   ]
  },
  {
   "cell_type": "code",
   "execution_count": 59,
   "metadata": {},
   "outputs": [
    {
     "data": {
      "text/plain": [
       "[0, 5, 10, 15, 20]"
      ]
     },
     "execution_count": 59,
     "metadata": {},
     "output_type": "execute_result"
    }
   ],
   "source": [
    "B"
   ]
  },
  {
   "cell_type": "code",
   "execution_count": 60,
   "metadata": {},
   "outputs": [
    {
     "name": "stdout",
     "output_type": "stream",
     "text": [
      "4\n"
     ]
    }
   ],
   "source": [
    "c=0\n",
    "for i in range(1, 5):\n",
    "    if (B[i] > A[i]):\n",
    "        c= c + (B[i] % A[i])\n",
    "    else:\n",
    "        c=1\n",
    "print(c)"
   ]
  },
  {
   "cell_type": "markdown",
   "metadata": {},
   "source": [
    "### no.14\n",
    "程式輸出為何？"
   ]
  },
  {
   "cell_type": "code",
   "execution_count": 7,
   "metadata": {},
   "outputs": [
    {
     "name": "stdout",
     "output_type": "stream",
     "text": [
      "bar: 6\n",
      "None\n",
      "bar: 1\n",
      "None\n",
      "bar: 8\n",
      "None\n"
     ]
    }
   ],
   "source": [
    "def foo (i): \n",
    "    if (i <= 5): \n",
    "         print (\"foo:\", i)\n",
    "    else:\n",
    "         bar(i-10)\n",
    "            \n",
    "def bar (i):\n",
    "    if (i <= 10):\n",
    "        print(\"bar:\", i)\n",
    "    else:\n",
    "        foo(i-5)\n",
    "    \n",
    "print(foo(15106))\n",
    "print(bar(3091))\n",
    "print(foo(6693))\n",
    "# 因為沒有回傳值，如果用print時就會有none"
   ]
  },
  {
   "cell_type": "code",
   "execution_count": 8,
   "metadata": {},
   "outputs": [
    {
     "name": "stdout",
     "output_type": "stream",
     "text": [
      "bar: 6\n",
      "bar: 1\n",
      "bar: 8\n"
     ]
    }
   ],
   "source": [
    "def foo (i): \n",
    "    if (i <= 5): \n",
    "         print (\"foo:\", i)\n",
    "    else:\n",
    "         bar(i-10)\n",
    "            \n",
    "def bar (i):\n",
    "    if (i <= 10):\n",
    "        print(\"bar:\", i)\n",
    "    else:\n",
    "        foo(i-5)\n",
    "    \n",
    "foo(15106)\n",
    "bar(3091)\n",
    "foo(6693)"
   ]
  },
  {
   "cell_type": "markdown",
   "metadata": {},
   "source": [
    "### no.19 \n",
    "    大部分程式語言都是以列為主的方式儲存陣列。在一個 8x4 的陣列(array) A 裡，\n",
    "    若每個元素需要兩單位的記憶體大小，且若 A[0][0]的記憶體位址為 108 (十進制表示)，\n",
    "    則 A[1][2]的記憶體位址為何？\n",
    "\n",
    "\"\"\"(A) 120\"\"\"\n",
    "\n",
    "(B) 124\n",
    "(C) 128\n",
    "(D) 以上皆非"
   ]
  },
  {
   "cell_type": "markdown",
   "metadata": {},
   "source": [
    "### no.20\n",
    "原題為一個計算 n 階層的函式，請問該如何修改才會得到正確的結果？"
   ]
  },
  {
   "cell_type": "code",
   "execution_count": 14,
   "metadata": {},
   "outputs": [],
   "source": [
    "def fun(n):\n",
    "    fac = 1\n",
    "    if (n >= 0):\n",
    "        fac = n * fun(n - 1)\n",
    "    return fac"
   ]
  },
  {
   "cell_type": "code",
   "execution_count": 15,
   "metadata": {},
   "outputs": [
    {
     "data": {
      "text/plain": [
       "0"
      ]
     },
     "execution_count": 15,
     "metadata": {},
     "output_type": "execute_result"
    }
   ],
   "source": [
    "fun(5)"
   ]
  },
  {
   "cell_type": "code",
   "execution_count": 16,
   "metadata": {},
   "outputs": [
    {
     "data": {
      "text/plain": [
       "0"
      ]
     },
     "execution_count": 16,
     "metadata": {},
     "output_type": "execute_result"
    }
   ],
   "source": [
    "#(A) 第2 行，改為 int fac = n;\n",
    "def fun(n):\n",
    "    fac = n\n",
    "    if (n >= 0):\n",
    "        fac = n * fun(n - 1)\n",
    "    return fac\n",
    "\n",
    "fun(5)"
   ]
  },
  {
   "cell_type": "code",
   "execution_count": 19,
   "metadata": {},
   "outputs": [
    {
     "data": {
      "text/plain": [
       "120"
      ]
     },
     "execution_count": 19,
     "metadata": {},
     "output_type": "execute_result"
    }
   ],
   "source": [
    "#(B) 第 3 行，改為 if (n > 0)\n",
    "def fun(n):\n",
    "    fac = 1\n",
    "    if (n > 0):\n",
    "        fac = n * fun(n - 1)\n",
    "    return fac\n",
    "\n",
    "fun(5)\n",
    "\n",
    "# 正確"
   ]
  },
  {
   "cell_type": "code",
   "execution_count": 20,
   "metadata": {},
   "outputs": [
    {
     "ename": "RecursionError",
     "evalue": "maximum recursion depth exceeded in comparison",
     "output_type": "error",
     "traceback": [
      "\u001b[1;31m---------------------------------------------------------------------------\u001b[0m",
      "\u001b[1;31mRecursionError\u001b[0m                            Traceback (most recent call last)",
      "\u001b[1;32m<ipython-input-20-76a35cff4c04>\u001b[0m in \u001b[0;36m<module>\u001b[1;34m()\u001b[0m\n\u001b[0;32m      6\u001b[0m     \u001b[1;32mreturn\u001b[0m \u001b[0mfac\u001b[0m\u001b[1;33m\u001b[0m\u001b[0m\n\u001b[0;32m      7\u001b[0m \u001b[1;33m\u001b[0m\u001b[0m\n\u001b[1;32m----> 8\u001b[1;33m \u001b[0mfun\u001b[0m\u001b[1;33m(\u001b[0m\u001b[1;36m5\u001b[0m\u001b[1;33m)\u001b[0m\u001b[1;33m\u001b[0m\u001b[0m\n\u001b[0m",
      "\u001b[1;32m<ipython-input-20-76a35cff4c04>\u001b[0m in \u001b[0;36mfun\u001b[1;34m(n)\u001b[0m\n\u001b[0;32m      3\u001b[0m     \u001b[0mfac\u001b[0m \u001b[1;33m=\u001b[0m \u001b[1;36m1\u001b[0m\u001b[1;33m\u001b[0m\u001b[0m\n\u001b[0;32m      4\u001b[0m     \u001b[1;32mif\u001b[0m \u001b[1;33m(\u001b[0m\u001b[0mn\u001b[0m \u001b[1;33m>=\u001b[0m \u001b[1;36m0\u001b[0m\u001b[1;33m)\u001b[0m\u001b[1;33m:\u001b[0m\u001b[1;33m\u001b[0m\u001b[0m\n\u001b[1;32m----> 5\u001b[1;33m         \u001b[0mfac\u001b[0m \u001b[1;33m=\u001b[0m \u001b[0mn\u001b[0m \u001b[1;33m*\u001b[0m \u001b[0mfun\u001b[0m\u001b[1;33m(\u001b[0m\u001b[0mn\u001b[0m \u001b[1;33m+\u001b[0m \u001b[1;36m1\u001b[0m\u001b[1;33m)\u001b[0m\u001b[1;33m\u001b[0m\u001b[0m\n\u001b[0m\u001b[0;32m      6\u001b[0m     \u001b[1;32mreturn\u001b[0m \u001b[0mfac\u001b[0m\u001b[1;33m\u001b[0m\u001b[0m\n\u001b[0;32m      7\u001b[0m \u001b[1;33m\u001b[0m\u001b[0m\n",
      "... last 1 frames repeated, from the frame below ...\n",
      "\u001b[1;32m<ipython-input-20-76a35cff4c04>\u001b[0m in \u001b[0;36mfun\u001b[1;34m(n)\u001b[0m\n\u001b[0;32m      3\u001b[0m     \u001b[0mfac\u001b[0m \u001b[1;33m=\u001b[0m \u001b[1;36m1\u001b[0m\u001b[1;33m\u001b[0m\u001b[0m\n\u001b[0;32m      4\u001b[0m     \u001b[1;32mif\u001b[0m \u001b[1;33m(\u001b[0m\u001b[0mn\u001b[0m \u001b[1;33m>=\u001b[0m \u001b[1;36m0\u001b[0m\u001b[1;33m)\u001b[0m\u001b[1;33m:\u001b[0m\u001b[1;33m\u001b[0m\u001b[0m\n\u001b[1;32m----> 5\u001b[1;33m         \u001b[0mfac\u001b[0m \u001b[1;33m=\u001b[0m \u001b[0mn\u001b[0m \u001b[1;33m*\u001b[0m \u001b[0mfun\u001b[0m\u001b[1;33m(\u001b[0m\u001b[0mn\u001b[0m \u001b[1;33m+\u001b[0m \u001b[1;36m1\u001b[0m\u001b[1;33m)\u001b[0m\u001b[1;33m\u001b[0m\u001b[0m\n\u001b[0m\u001b[0;32m      6\u001b[0m     \u001b[1;32mreturn\u001b[0m \u001b[0mfac\u001b[0m\u001b[1;33m\u001b[0m\u001b[0m\n\u001b[0;32m      7\u001b[0m \u001b[1;33m\u001b[0m\u001b[0m\n",
      "\u001b[1;31mRecursionError\u001b[0m: maximum recursion depth exceeded in comparison"
     ]
    }
   ],
   "source": [
    "#(C) 第 4 行，改為 fac = n * fun(n+1)\n",
    "def fun(n):\n",
    "    fac = 1\n",
    "    if (n >= 0):\n",
    "        fac = n * fun(n + 1)\n",
    "    return fac\n",
    "\n",
    "fun(5)"
   ]
  },
  {
   "cell_type": "code",
   "execution_count": 21,
   "metadata": {},
   "outputs": [
    {
     "data": {
      "text/plain": [
       "1"
      ]
     },
     "execution_count": 21,
     "metadata": {},
     "output_type": "execute_result"
    }
   ],
   "source": [
    "#(D) 第 4 行，改為 fac = fac * fun(n-1)\n",
    "def fun(n):\n",
    "    fac = 1\n",
    "    if (n >= 0):\n",
    "        fac = fac * fun(n-1)\n",
    "    return fac\n",
    "\n",
    "fun(5)"
   ]
  },
  {
   "cell_type": "code",
   "execution_count": null,
   "metadata": {},
   "outputs": [],
   "source": []
  }
 ],
 "metadata": {
  "kernelspec": {
   "display_name": "Python 3",
   "language": "python",
   "name": "python3"
  },
  "language_info": {
   "codemirror_mode": {
    "name": "ipython",
    "version": 3
   },
   "file_extension": ".py",
   "mimetype": "text/x-python",
   "name": "python",
   "nbconvert_exporter": "python",
   "pygments_lexer": "ipython3",
   "version": "3.6.6"
  }
 },
 "nbformat": 4,
 "nbformat_minor": 2
}
