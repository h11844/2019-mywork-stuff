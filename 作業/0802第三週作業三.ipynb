{
 "cells": [
  {
   "cell_type": "markdown",
   "metadata": {},
   "source": [
    "# Q11172: Relational Operators"
   ]
  },
  {
   "cell_type": "markdown",
   "metadata": {},
   "source": [
    "### 有些運算子（operator）是用來檢查兩個數值之間的關係，這種運算子稱為關係運算子（relational operators）。 給你兩個數值你的工作就是要找出它們之間的關係是(1)第一個大於第二個 (2)第二個小於第一個 (3)兩個一樣大。"
   ]
  },
  {
   "cell_type": "markdown",
   "metadata": {},
   "source": [
    "### Input\n",
    "\n",
    "輸入的第一列有一個整數代表共有多少組測試資料。\n",
    "\n",
    "接下來每列有兩個整數 a 和 b （ |a|,|b| < 1000000001）。"
   ]
  },
  {
   "cell_type": "markdown",
   "metadata": {},
   "source": [
    "### Output\n",
    "\n",
    "對於每組測試資料，輸出，\">\", \"<\" 或 \"=\"，代表該二數字的關係。"
   ]
  },
  {
   "cell_type": "markdown",
   "metadata": {},
   "source": [
    "### Sample InputSample Output\n",
    "3\n",
    "\n",
    "10 20\n",
    "\n",
    "20 10\n",
    "\n",
    "10 10"
   ]
  },
  {
   "cell_type": "markdown",
   "metadata": {},
   "source": [
    "### Sample Output\n",
    "<\n",
    ">\n",
    "="
   ]
  },
  {
   "cell_type": "code",
   "execution_count": 2,
   "metadata": {},
   "outputs": [
    {
     "name": "stdout",
     "output_type": "stream",
     "text": [
      "3\n",
      "20 10\n",
      ">\n",
      "10 20\n",
      "<\n",
      "10 10\n",
      "=\n"
     ]
    }
   ],
   "source": [
    "N=int(input())\n",
    "for i in range(N):\n",
    "    a,b= input().split()\n",
    "    if a>b:\n",
    "        print(\">\")\n",
    "    if a<b:\n",
    "        print(\"<\")\n",
    "    if a==b:\n",
    "        print(\"=\")"
   ]
  }
 ],
 "metadata": {
  "kernelspec": {
   "display_name": "Python 3",
   "language": "python",
   "name": "python3"
  },
  "language_info": {
   "codemirror_mode": {
    "name": "ipython",
    "version": 3
   },
   "file_extension": ".py",
   "mimetype": "text/x-python",
   "name": "python",
   "nbconvert_exporter": "python",
   "pygments_lexer": "ipython3",
   "version": "3.7.3"
  }
 },
 "nbformat": 4,
 "nbformat_minor": 2
}
