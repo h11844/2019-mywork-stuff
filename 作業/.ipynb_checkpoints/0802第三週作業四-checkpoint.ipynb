{
 "cells": [
  {
   "cell_type": "markdown",
   "metadata": {},
   "source": [
    "# Q11332: Summing Digits"
   ]
  },
  {
   "cell_type": "markdown",
   "metadata": {},
   "source": [
    "## 對一個正整數 n， f(n) 表示 n 以十進位表示時所有位數的和。顯而易見地，數列 n, f(n), f(f(n)), f(f(f(n))), ...一直重覆下去最後會變成一個一位數的整數。這個一位數字以 g(n) 表示。\n",
    "\n",
    "例如，若 n = 1234567892，則：\n",
    "\n",
    "f(n) = 1+2+3+4+5+6+7+8+9+2 = 47\n",
    "\n",
    "f(f(n)) = 4+7 = 11\n",
    "\n",
    "f(f(f(n))) = 1+1 = 2\n",
    "\n",
    "因此， g(1234567892) = 2。"
   ]
  },
  {
   "cell_type": "markdown",
   "metadata": {},
   "source": [
    "### Input\n",
    "\n",
    "每筆測試資料一列。每列都有一個大不於2,000,000,000 的正整數 n。當 n = 0 時代表輸入結束，不用輸出 n = 0 這筆資料。請參考 Sample Input。"
   ]
  },
  {
   "cell_type": "markdown",
   "metadata": {},
   "source": [
    "### Output\n",
    "\n",
    "每筆測試資料輸出一列 g(n)。"
   ]
  },
  {
   "cell_type": "markdown",
   "metadata": {},
   "source": [
    "### Sample Input\n",
    "2\n",
    "\n",
    "11\n",
    "\n",
    "47\n",
    "\n",
    "1234567892\n",
    "\n",
    "0\n"
   ]
  },
  {
   "cell_type": "markdown",
   "metadata": {},
   "source": [
    "### Sample Output\n",
    "2\n",
    "\n",
    "2\n",
    "\n",
    "2\n",
    "\n",
    "2"
   ]
  },
  {
   "cell_type": "code",
   "execution_count": 2,
   "metadata": {},
   "outputs": [
    {
     "name": "stdout",
     "output_type": "stream",
     "text": [
      "5\n",
      "2\n",
      "2\n",
      "11\n",
      "2\n",
      "47\n",
      "11\n",
      "1234567892\n",
      "47\n",
      "0\n",
      "0\n"
     ]
    }
   ],
   "source": [
    "N=int(input())\n",
    "\n",
    "for i in range(N):\n",
    "    line= list(input())\n",
    "    s=sum(map(int,line))\n",
    "    print(s)\n",
    "    if N == 0:\n",
    "        break\n",
    "    "
   ]
  }
 ],
 "metadata": {
  "kernelspec": {
   "display_name": "Python 3",
   "language": "python",
   "name": "python3"
  },
  "language_info": {
   "codemirror_mode": {
    "name": "ipython",
    "version": 3
   },
   "file_extension": ".py",
   "mimetype": "text/x-python",
   "name": "python",
   "nbconvert_exporter": "python",
   "pygments_lexer": "ipython3",
   "version": "3.7.3"
  }
 },
 "nbformat": 4,
 "nbformat_minor": 2
}
