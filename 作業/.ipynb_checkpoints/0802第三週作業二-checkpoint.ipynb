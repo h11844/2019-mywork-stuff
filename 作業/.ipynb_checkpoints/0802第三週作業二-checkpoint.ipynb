{
 "cells": [
  {
   "cell_type": "markdown",
   "metadata": {},
   "source": [
    "# Q10071: Back to High School Physics"
   ]
  },
  {
   "cell_type": "markdown",
   "metadata": {},
   "source": [
    "## 某一個粒子有一初速度和等加速度。假設在 t 秒後此粒子的速度為 v ，請問這個粒子在 2t 秒後所經過的距離是多少。"
   ]
  },
  {
   "cell_type": "markdown",
   "metadata": {},
   "source": [
    "## Input\n",
    "\n",
    "每組測試資料1列，有2個整數，分別代表 v（-100 <= v <=100）和 t（0 <= t <= 200）。"
   ]
  },
  {
   "cell_type": "markdown",
   "metadata": {},
   "source": [
    "## Output\n",
    "\n",
    "對每組測試資料請輸出這個粒子在 2t 秒後所經過的距離是多少。"
   ]
  },
  {
   "cell_type": "markdown",
   "metadata": {},
   "source": [
    "## Sample input\n",
    "\n",
    "0 0\n",
    "5 12"
   ]
  },
  {
   "cell_type": "markdown",
   "metadata": {},
   "source": [
    "## Sample Output\n",
    "\n",
    "0\n",
    "120"
   ]
  },
  {
   "cell_type": "code",
   "execution_count": 1,
   "metadata": {},
   "outputs": [
    {
     "name": "stdout",
     "output_type": "stream",
     "text": [
      "0 0\n",
      "0\n"
     ]
    }
   ],
   "source": [
    "n = str(input()).split()\n",
    "\n",
    "for v in range(-100,101):\n",
    "    v = int(n[0])\n",
    "    for t in range(201):\n",
    "        t = int(n[1])\n",
    "if v < 0:\n",
    "    s=-int(v)*2*int(t)\n",
    "    print(s)\n",
    "else:\n",
    "    s=int(v)*2*int(t)\n",
    "    print(s)"
   ]
  },
  {
   "cell_type": "code",
   "execution_count": 2,
   "metadata": {},
   "outputs": [
    {
     "name": "stdout",
     "output_type": "stream",
     "text": [
      "5 12\n",
      "120\n"
     ]
    }
   ],
   "source": [
    "n = str(input()).split()\n",
    "\n",
    "for v in range(-100,101):\n",
    "    v = int(n[0])\n",
    "    for t in range(201):\n",
    "        t = int(n[1])\n",
    "if v < 0:\n",
    "    s=-int(v)*2*int(t)\n",
    "    print(s)\n",
    "else:\n",
    "    s=int(v)*2*int(t)\n",
    "    print(s)"
   ]
  },
  {
   "cell_type": "code",
   "execution_count": 3,
   "metadata": {},
   "outputs": [
    {
     "name": "stdout",
     "output_type": "stream",
     "text": [
      "-10 2\n",
      "40\n"
     ]
    }
   ],
   "source": [
    "n = str(input()).split()\n",
    "\n",
    "for v in range(-100,101):\n",
    "    v = int(n[0])\n",
    "    for t in range(201):\n",
    "        t = int(n[1])\n",
    "if v < 0:\n",
    "    s=-int(v)*2*int(t)\n",
    "    print(s)\n",
    "else:\n",
    "    s=int(v)*2*int(t)\n",
    "    print(s)"
   ]
  },
  {
   "cell_type": "code",
   "execution_count": null,
   "metadata": {},
   "outputs": [],
   "source": []
  }
 ],
 "metadata": {
  "kernelspec": {
   "display_name": "Python 3",
   "language": "python",
   "name": "python3"
  },
  "language_info": {
   "codemirror_mode": {
    "name": "ipython",
    "version": 3
   },
   "file_extension": ".py",
   "mimetype": "text/x-python",
   "name": "python",
   "nbconvert_exporter": "python",
   "pygments_lexer": "ipython3",
   "version": "3.7.3"
  }
 },
 "nbformat": 4,
 "nbformat_minor": 2
}
