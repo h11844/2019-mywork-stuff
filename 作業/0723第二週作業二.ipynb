{
 "cells": [
  {
   "cell_type": "code",
   "execution_count": 20,
   "metadata": {},
   "outputs": [
    {
     "name": "stdout",
     "output_type": "stream",
     "text": [
      "請輸入你的生日日期代碼，如1月1號為101、10月10號為1010：\n",
      "生日日期：111\n",
      "你的生日石為石榴石，https://reurl.cc/q7KKg\n"
     ]
    }
   ],
   "source": [
    "print(\"請輸入你的生日日期代碼，如1月1號為101、10月10號為1010：\")\n",
    "\n",
    "bir=int(input(\"生日日期：\"))\n",
    "\n",
    "if 101<=bir<132:\n",
    "    print(\"你的生日石為石榴石，https://reurl.cc/q7KKg\")\n",
    "elif 201<=bir<230:\n",
    "    print(\"你的生日石為紫水晶，https://reurl.cc/7GbbN\")\n",
    "elif 301<=bir<332:\n",
    "    print(\"你的生日石為海藍寶石，https://reurl.cc/0AaaA\")\n",
    "elif 401<=bir<431:\n",
    "    print(\"你的生日石為鑽石，https://reurl.cc/G8Gax\")\n",
    "elif 501<=bir<532:\n",
    "    print(\"你的生日石為祖母綠，https://reurl.cc/K7O2y\")\n",
    "elif 601<=bir<631:\n",
    "    print(\"你的生日石為珍珠，https://reurl.cc/9eb0n\")\n",
    "elif 701<=bir<732:\n",
    "    print(\"你的生日石為紅寶石，https://reurl.cc/NvNO9\")\n",
    "elif 801<=bir<832:\n",
    "    print(\"你的生日石為橄欖石，https://reurl.cc/x5KeV\")\n",
    "elif 901<=bir<931:\n",
    "    print(\"你的生日石為藍寶石，https://reurl.cc/vYKGy\")\n",
    "elif 1001<=bir<1032:\n",
    "    print(\"你的生日石為蛋白石，https://reurl.cc/0AaQx\")\n",
    "elif 1101<=bir<1131:\n",
    "    print(\"你的生日石為黃寶石，https://reurl.cc/okKp5\")\n",
    "elif 1201<=bir<1232:\n",
    "    print(\"你的生日石為綠松石，https://reurl.cc/W68yy\")\n",
    "else:\n",
    "    print(\"請輸入正確生日日期\")"
   ]
  },
  {
   "cell_type": "code",
   "execution_count": null,
   "metadata": {},
   "outputs": [],
   "source": []
  }
 ],
 "metadata": {
  "kernelspec": {
   "display_name": "Python 3",
   "language": "python",
   "name": "python3"
  },
  "language_info": {
   "codemirror_mode": {
    "name": "ipython",
    "version": 3
   },
   "file_extension": ".py",
   "mimetype": "text/x-python",
   "name": "python",
   "nbconvert_exporter": "python",
   "pygments_lexer": "ipython3",
   "version": "3.7.3"
  }
 },
 "nbformat": 4,
 "nbformat_minor": 2
}
