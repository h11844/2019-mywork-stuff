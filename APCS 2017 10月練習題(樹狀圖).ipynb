{
 "cells": [
  {
   "cell_type": "markdown",
   "metadata": {},
   "source": [
    "### https://apcs.csie.ntnu.edu.tw/wp-content/uploads/2018/12/1061028APCSImplementation.pdf"
   ]
  },
  {
   "cell_type": "code",
   "execution_count": null,
   "metadata": {},
   "outputs": [],
   "source": [
    "### 樹狀圖\n",
    "n=7\n",
    "1. x\n",
    "2. [6,7]\n",
    "3. [1,4]\n",
    "4. x\n",
    "5. [3,2]\n",
    "6. x\n",
    "7. x"
   ]
  },
  {
   "cell_type": "code",
   "execution_count": 2,
   "metadata": {},
   "outputs": [],
   "source": [
    "T={1:[], 2:[6,7], 3:[1,4], 4:[], 5:[3,2], 6:[], 7:[]}\n",
    "\n",
    "#以字典模式輸好節點"
   ]
  },
  {
   "cell_type": "code",
   "execution_count": 4,
   "metadata": {},
   "outputs": [
    {
     "data": {
      "text/plain": [
       "[3, 2]"
      ]
     },
     "execution_count": 4,
     "metadata": {},
     "output_type": "execute_result"
    }
   ],
   "source": [
    "T[5]"
   ]
  },
  {
   "cell_type": "code",
   "execution_count": null,
   "metadata": {},
   "outputs": [],
   "source": []
  },
  {
   "cell_type": "code",
   "execution_count": 1,
   "metadata": {},
   "outputs": [],
   "source": [
    "N={1:[6], 2:[5,3,8], 3:[], 4:[1,7], 5:[9], 6:[], 7:[2], 8:[], 9:[]}"
   ]
  },
  {
   "cell_type": "code",
   "execution_count": 3,
   "metadata": {
    "scrolled": true
   },
   "outputs": [
    {
     "data": {
      "text/plain": [
       "[6]"
      ]
     },
     "execution_count": 3,
     "metadata": {},
     "output_type": "execute_result"
    }
   ],
   "source": [
    "N[1]"
   ]
  },
  {
   "cell_type": "markdown",
   "metadata": {},
   "source": [
    "### 分節點 "
   ]
  },
  {
   "cell_type": "code",
   "execution_count": 3,
   "metadata": {
    "scrolled": true
   },
   "outputs": [
    {
     "name": "stdout",
     "output_type": "stream",
     "text": [
      "7\n",
      "0\n",
      "2 6 7\n",
      "2 1 4\n",
      "0\n",
      "2 3 2\n",
      "0\n",
      "0\n",
      "[5]\n"
     ]
    }
   ],
   "source": [
    "n= int(input())\n",
    "T= {}\n",
    "root= list(range(1, n+1))    #所有可能的根節點答案\n",
    "\n",
    "for i in range(1,n+1):\n",
    "    line= input().split()\n",
    "    n_line= list(map(int, line))[1:]\n",
    "    T[i]= n_line\n",
    "\n",
    "    for k in n_line:\n",
    "        root.remove(k)\n",
    "\n",
    "print(root[0])"
   ]
  },
  {
   "cell_type": "markdown",
   "metadata": {},
   "source": [
    "### 算高度"
   ]
  },
  {
   "cell_type": "code",
   "execution_count": 25,
   "metadata": {},
   "outputs": [],
   "source": [
    "def h(v):\n",
    "    c_nodes=T[v] #子節點\n",
    "    if c_nodes==[]:\n",
    "        return 0\n",
    "    else:\n",
    "        return max(map(h,c_nodes))+1"
   ]
  },
  {
   "cell_type": "code",
   "execution_count": 26,
   "metadata": {},
   "outputs": [
    {
     "data": {
      "text/plain": [
       "2"
      ]
     },
     "execution_count": 26,
     "metadata": {},
     "output_type": "execute_result"
    }
   ],
   "source": [
    "h(5)"
   ]
  },
  {
   "cell_type": "markdown",
   "metadata": {},
   "source": [
    "### 組合"
   ]
  },
  {
   "cell_type": "code",
   "execution_count": 32,
   "metadata": {},
   "outputs": [
    {
     "name": "stdout",
     "output_type": "stream",
     "text": [
      "7\n",
      "0\n",
      "2 6 7\n",
      "2 1 4\n",
      "0\n",
      "2 3 2\n",
      "0\n",
      "0\n",
      "5\n",
      "4\n"
     ]
    }
   ],
   "source": [
    "n= int(input())\n",
    "T= {}\n",
    "root= list(range(1, n+1))    #所有可能的根節點答案\n",
    "\n",
    "for i in range(1,n+1):\n",
    "    line= input().split()\n",
    "    n_line= list(map(int, line))[1:]\n",
    "    T[i]= n_line\n",
    "\n",
    "    for k in n_line:\n",
    "        root.remove(k)\n",
    "\n",
    "def h(v):\n",
    "    c_nodes=T[v] #子節點\n",
    "    if c_nodes==[]:\n",
    "        return 0\n",
    "    else:\n",
    "        return max(map(h,c_nodes))+1\n",
    "    \n",
    "print(root[0])\n",
    "print(sum(map(h, range(1, n+1))))"
   ]
  },
  {
   "cell_type": "code",
   "execution_count": null,
   "metadata": {},
   "outputs": [],
   "source": []
  }
 ],
 "metadata": {
  "kernelspec": {
   "display_name": "Python 3",
   "language": "python",
   "name": "python3"
  },
  "language_info": {
   "codemirror_mode": {
    "name": "ipython",
    "version": 3
   },
   "file_extension": ".py",
   "mimetype": "text/x-python",
   "name": "python",
   "nbconvert_exporter": "python",
   "pygments_lexer": "ipython3",
   "version": "3.6.6"
  }
 },
 "nbformat": 4,
 "nbformat_minor": 2
}
