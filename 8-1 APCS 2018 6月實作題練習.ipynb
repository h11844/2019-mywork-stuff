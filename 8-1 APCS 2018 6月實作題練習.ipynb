{
 "cells": [
  {
   "cell_type": "markdown",
   "metadata": {},
   "source": [
    "# APCS 2018 6月實作\n",
    "http://210.71.78.162/doc/240.pdf"
   ]
  },
  {
   "cell_type": "markdown",
   "metadata": {},
   "source": [
    "## 第 1 題 特殊編碼"
   ]
  },
  {
   "cell_type": "code",
   "execution_count": 2,
   "metadata": {},
   "outputs": [
    {
     "name": "stdout",
     "output_type": "stream",
     "text": [
      "2\n"
     ]
    }
   ],
   "source": [
    "N=int(input())\n",
    "L = {\"0 1 0 1\":\"A\", \"0 1 1 1\":\"B\", \"0 0 1 0\":\"C\", \"1 1 0 1\":\"D\", \"1 0 0 0\":\"E\", \"1 1 0 0\":\"F\"}"
   ]
  },
  {
   "cell_type": "code",
   "execution_count": 3,
   "metadata": {},
   "outputs": [],
   "source": [
    "A=list(L)"
   ]
  },
  {
   "cell_type": "code",
   "execution_count": 4,
   "metadata": {},
   "outputs": [
    {
     "data": {
      "text/plain": [
       "['0 1 0 1', '0 1 1 1', '0 0 1 0', '1 1 0 1', '1 0 0 0', '1 1 0 0']"
      ]
     },
     "execution_count": 4,
     "metadata": {},
     "output_type": "execute_result"
    }
   ],
   "source": [
    "A"
   ]
  },
  {
   "cell_type": "code",
   "execution_count": 5,
   "metadata": {},
   "outputs": [
    {
     "data": {
      "text/plain": [
       "'AB'"
      ]
     },
     "execution_count": 5,
     "metadata": {},
     "output_type": "execute_result"
    }
   ],
   "source": [
    "L[\"0 1 0 1\"]+L[\"0 1 1 1\"]"
   ]
  },
  {
   "cell_type": "code",
   "execution_count": 13,
   "metadata": {},
   "outputs": [
    {
     "data": {
      "text/plain": [
       "dict_values(['A', 'B', 'C', 'D', 'E', 'F'])"
      ]
     },
     "execution_count": 13,
     "metadata": {},
     "output_type": "execute_result"
    }
   ],
   "source": [
    "L.values()"
   ]
  },
  {
   "cell_type": "code",
   "execution_count": 11,
   "metadata": {},
   "outputs": [
    {
     "data": {
      "text/plain": [
       "{'0 1 0 1': 'A',\n",
       " '0 1 1 1': 'B',\n",
       " '0 0 1 0': 'C',\n",
       " '1 1 0 1': 'D',\n",
       " '1 0 0 0': 'E',\n",
       " '1 1 0 0': 'F'}"
      ]
     },
     "execution_count": 11,
     "metadata": {},
     "output_type": "execute_result"
    }
   ],
   "source": [
    "L"
   ]
  },
  {
   "cell_type": "code",
   "execution_count": 16,
   "metadata": {},
   "outputs": [
    {
     "name": "stdout",
     "output_type": "stream",
     "text": [
      "1\n",
      "0 1 0 1\n",
      "A\n"
     ]
    }
   ],
   "source": [
    "N=int(input())\n",
    "L = {\"0101\":\"A\", \"0111\":\"B\", \"0010\":\"C\", \"1101\":\"D\", \"1000\":\"E\", \"1100\":\"F\"}\n",
    "for i in range(N):\n",
    "    line= input().split()    \n",
    "    q=''.join(line)\n",
    "    print(L[q])\n",
    "    \n",
    "# 直接輸入就得到輸出"
   ]
  },
  {
   "cell_type": "code",
   "execution_count": 1,
   "metadata": {},
   "outputs": [
    {
     "name": "stdout",
     "output_type": "stream",
     "text": [
      "2\n",
      "0 1 0 1\n",
      "0 1 1 1\n",
      "AB\n"
     ]
    }
   ],
   "source": [
    "N=int(input())\n",
    "L = {\"0101\":\"A\", \"0111\":\"B\", \"0010\":\"C\", \"1101\":\"D\", \"1000\":\"E\", \"1100\":\"F\"}\n",
    "\n",
    "A=[]\n",
    "for i in range(N):\n",
    "    line= input().split()    \n",
    "    q=''.join(line)\n",
    "    A.append(L[q])   # 將輸出結果先存在A中\n",
    "    \n",
    "B=''.join(A)    #再將A結合一個字串\n",
    "print(B)"
   ]
  },
  {
   "cell_type": "code",
   "execution_count": 3,
   "metadata": {},
   "outputs": [
    {
     "name": "stdout",
     "output_type": "stream",
     "text": [
      "2\n",
      "0 1 0 1\n",
      "0 1 1 1\n",
      "AB\n"
     ]
    }
   ],
   "source": [
    "N=int(input())\n",
    "L = {\"0101\":\"A\", \"0111\":\"B\", \"0010\":\"C\", \"1101\":\"D\", \"1000\":\"E\", \"1100\":\"F\"}\n",
    "\n",
    "A=''\n",
    "for i in range(N):\n",
    "    line= input().split()    \n",
    "    q=''.join(line)\n",
    "    A= A+ L[q]   # 以字串方式記住\n",
    "    \n",
    "print(A)"
   ]
  },
  {
   "cell_type": "code",
   "execution_count": null,
   "metadata": {},
   "outputs": [],
   "source": []
  }
 ],
 "metadata": {
  "kernelspec": {
   "display_name": "Python 3",
   "language": "python",
   "name": "python3"
  },
  "language_info": {
   "codemirror_mode": {
    "name": "ipython",
    "version": 3
   },
   "file_extension": ".py",
   "mimetype": "text/x-python",
   "name": "python",
   "nbconvert_exporter": "python",
   "pygments_lexer": "ipython3",
   "version": "3.7.3"
  }
 },
 "nbformat": 4,
 "nbformat_minor": 2
}
