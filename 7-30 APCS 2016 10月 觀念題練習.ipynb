{
 "cells": [
  {
   "cell_type": "markdown",
   "metadata": {},
   "source": [
    "# APCS 2016 10月 觀念題練習\n",
    "https://apcs.csie.ntnu.edu.tw/wp-content/uploads/2018/12/1051029APCSconcept.pdf"
   ]
  },
  {
   "cell_type": "markdown",
   "metadata": {},
   "source": [
    "### no.2\n",
    "\n",
    "右側 switch 敘述程式碼可以如何以 if-else\n",
    "改寫？"
   ]
  },
  {
   "cell_type": "code",
   "execution_count": null,
   "metadata": {},
   "outputs": [],
   "source": [
    " switch(x)  #switch 更換語法\n",
    "    case 10=x?\n",
    "    break\n",
    "    #判斷x是否為10，遇break後才會跳出"
   ]
  },
  {
   "cell_type": "markdown",
   "metadata": {},
   "source": [
    "### no.8 \n",
    "\n",
    "\n",
    "下面哪組資料若依序存入陣列中，將無法直接使用二分搜尋法搜尋資料？\n",
    "\n",
    "二分法必須要有順序才可以執行\n",
    "\n",
    "(A) a, e, i, o, u\n",
    "\n",
    "\"\"\"(B) 3, 1, 4, 5, 9\"\"\"\n",
    "\n",
    "(C) 10000, 0, -10000\n",
    "(D) 1, 10, 10, 10, 100\n"
   ]
  },
  {
   "cell_type": "code",
   "execution_count": null,
   "metadata": {},
   "outputs": [],
   "source": [
    "9. 右側是依據分數 s 評定等第的程式碼片段，\n",
    "正確的等第公式應為：\n",
    "90~100 判為 A 等\n",
    "80~89 判為 B 等\n",
    " 70~79 判為 C 等\n",
    " 60~69 判為 D 等\n",
    "0~59 判為 F 等\n",
    "這段程式碼在處理 0~100 的分數時，有幾個\n",
    "分數的等第是錯的？\n"
   ]
  },
  {
   "cell_type": "code",
   "execution_count": 4,
   "metadata": {},
   "outputs": [],
   "source": [
    "def S(s=0):\n",
    "    if (s>=90):\n",
    "        print(\"A\")\n",
    "    elif (s>=80):\n",
    "        print(\"B\")\n",
    "    elif (s>60):   #先跑了低的60分，再跑較大的70分就會一直執行低的\n",
    "        print(\"D\")\n",
    "    elif (s>70):\n",
    "        print(\"C\")\n",
    "    else:\n",
    "        print(\"F\")"
   ]
  },
  {
   "cell_type": "code",
   "execution_count": 7,
   "metadata": {},
   "outputs": [
    {
     "name": "stdout",
     "output_type": "stream",
     "text": [
      "i=0, get S0\n",
      "i=1, get S1\n",
      "i=2, get S2\n",
      "i=3, get S3\n",
      "i=4, get S4\n",
      "i=5, get S5\n",
      "i=6, get S6\n",
      "i=7, get S7\n",
      "i=8, get S8\n",
      "i=9, get S9\n",
      "i=10, get S10\n",
      "i=11, get S11\n",
      "i=12, get S12\n",
      "i=13, get S13\n",
      "i=14, get S14\n",
      "i=15, get S15\n",
      "i=16, get S16\n",
      "i=17, get S17\n",
      "i=18, get S18\n",
      "i=19, get S19\n",
      "i=20, get S20\n",
      "i=21, get S21\n",
      "i=22, get S22\n",
      "i=23, get S23\n",
      "i=24, get S24\n",
      "i=25, get S25\n",
      "i=26, get S26\n",
      "i=27, get S27\n",
      "i=28, get S28\n",
      "i=29, get S29\n",
      "i=30, get S30\n",
      "i=31, get S31\n",
      "i=32, get S32\n",
      "i=33, get S33\n",
      "i=34, get S34\n",
      "i=35, get S35\n",
      "i=36, get S36\n",
      "i=37, get S37\n",
      "i=38, get S38\n",
      "i=39, get S39\n",
      "i=40, get S40\n",
      "i=41, get S41\n",
      "i=42, get S42\n",
      "i=43, get S43\n",
      "i=44, get S44\n",
      "i=45, get S45\n",
      "i=46, get S46\n",
      "i=47, get S47\n",
      "i=48, get S48\n",
      "i=49, get S49\n",
      "i=50, get S50\n",
      "i=51, get S51\n",
      "i=52, get S52\n",
      "i=53, get S53\n",
      "i=54, get S54\n",
      "i=55, get S55\n",
      "i=56, get S56\n",
      "i=57, get S57\n",
      "i=58, get S58\n",
      "i=59, get S59\n",
      "i=60, get S60\n",
      "i=61, get S61\n",
      "i=62, get S62\n",
      "i=63, get S63\n",
      "i=64, get S64\n",
      "i=65, get S65\n",
      "i=66, get S66\n",
      "i=67, get S67\n",
      "i=68, get S68\n",
      "i=69, get S69\n",
      "i=70, get S70\n",
      "i=71, get S71\n",
      "i=72, get S72\n",
      "i=73, get S73\n",
      "i=74, get S74\n",
      "i=75, get S75\n",
      "i=76, get S76\n",
      "i=77, get S77\n",
      "i=78, get S78\n",
      "i=79, get S79\n",
      "i=80, get S80\n",
      "i=81, get S81\n",
      "i=82, get S82\n",
      "i=83, get S83\n",
      "i=84, get S84\n",
      "i=85, get S85\n",
      "i=86, get S86\n",
      "i=87, get S87\n",
      "i=88, get S88\n",
      "i=89, get S89\n",
      "i=90, get S90\n",
      "i=91, get S91\n",
      "i=92, get S92\n",
      "i=93, get S93\n",
      "i=94, get S94\n",
      "i=95, get S95\n",
      "i=96, get S96\n",
      "i=97, get S97\n",
      "i=98, get S98\n",
      "i=99, get S99\n",
      "i=100, get S100\n"
     ]
    }
   ],
   "source": [
    "for i in range(101):\n",
    "    print(f\"i={i}, get S{(i)}\")"
   ]
  },
  {
   "cell_type": "code",
   "execution_count": 10,
   "metadata": {},
   "outputs": [],
   "source": [
    "def S(s=0):\n",
    "    if (s>=90):\n",
    "        return (\"A\")\n",
    "    elif (s>=80):\n",
    "        return (\"B\")\n",
    "    elif (s>70):\n",
    "        return (\"C\")\n",
    "    elif (s>60):   \n",
    "        return (\"D\")\n",
    "    else:\n",
    "        return (\"F\")"
   ]
  },
  {
   "cell_type": "code",
   "execution_count": 13,
   "metadata": {},
   "outputs": [
    {
     "data": {
      "text/plain": [
       "('F', 'D')"
      ]
     },
     "execution_count": 13,
     "metadata": {},
     "output_type": "execute_result"
    }
   ],
   "source": [
    "S(60),S(70)   #60分到70分皆錯"
   ]
  },
  {
   "cell_type": "markdown",
   "metadata": {},
   "source": [
    "### no.13\n",
    "若宣告一個字元陣列 char str[20] = \"Hello world!\"; 該陣列 str[12]值為何？\n",
    "\n",
    "題目表示有20個的字元的陣列，放了\"Hello world!\"，則占滿了0-11之字元。\n",
    "故第12個字元為空(null)。\n",
    "\n",
    "(A) 未宣告\n",
    "\n",
    "\"\"\"[     (B) \\0     ]\"\"\"\n",
    "\n",
    "(C) !\n",
    "(D) \\n\n"
   ]
  },
  {
   "cell_type": "code",
   "execution_count": null,
   "metadata": {},
   "outputs": [],
   "source": []
  }
 ],
 "metadata": {
  "kernelspec": {
   "display_name": "Python 3",
   "language": "python",
   "name": "python3"
  },
  "language_info": {
   "codemirror_mode": {
    "name": "ipython",
    "version": 3
   },
   "file_extension": ".py",
   "mimetype": "text/x-python",
   "name": "python",
   "nbconvert_exporter": "python",
   "pygments_lexer": "ipython3",
   "version": "3.6.6"
  }
 },
 "nbformat": 4,
 "nbformat_minor": 2
}
