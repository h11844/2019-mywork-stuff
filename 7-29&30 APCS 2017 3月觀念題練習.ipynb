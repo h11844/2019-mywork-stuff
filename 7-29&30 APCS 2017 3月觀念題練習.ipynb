{
 "cells": [
  {
   "cell_type": "markdown",
   "metadata": {},
   "source": [
    "# https://leetcode.com/"
   ]
  },
  {
   "cell_type": "code",
   "execution_count": null,
   "metadata": {},
   "outputs": [],
   "source": [
    "程式練習"
   ]
  },
  {
   "cell_type": "markdown",
   "metadata": {},
   "source": [
    "### no.6"
   ]
  },
  {
   "cell_type": "code",
   "execution_count": 4,
   "metadata": {},
   "outputs": [
    {
     "ename": "NameError",
     "evalue": "name 'M' is not defined",
     "output_type": "error",
     "traceback": [
      "\u001b[1;31m---------------------------------------------------------------------------\u001b[0m",
      "\u001b[1;31mNameError\u001b[0m                                 Traceback (most recent call last)",
      "\u001b[1;32m<ipython-input-4-d92ee90ae653>\u001b[0m in \u001b[0;36m<module>\u001b[1;34m()\u001b[0m\n\u001b[0;32m      3\u001b[0m     \u001b[0mN\u001b[0m\u001b[1;33m=\u001b[0m\u001b[0mlen\u001b[0m\u001b[1;33m(\u001b[0m\u001b[0mA\u001b[0m\u001b[1;33m[\u001b[0m\u001b[1;36m0\u001b[0m\u001b[1;33m]\u001b[0m\u001b[1;33m)\u001b[0m\u001b[1;33m\u001b[0m\u001b[0m\n\u001b[0;32m      4\u001b[0m \u001b[1;33m\u001b[0m\u001b[0m\n\u001b[1;32m----> 5\u001b[1;33m \u001b[1;32mfor\u001b[0m \u001b[0mi\u001b[0m \u001b[1;32min\u001b[0m \u001b[0mrange\u001b[0m\u001b[1;33m(\u001b[0m\u001b[0mM\u001b[0m\u001b[1;33m)\u001b[0m\u001b[1;33m:\u001b[0m\u001b[1;33m\u001b[0m\u001b[0m\n\u001b[0m\u001b[0;32m      6\u001b[0m     \u001b[0mrowsum\u001b[0m \u001b[1;33m=\u001b[0m \u001b[1;36m0\u001b[0m\u001b[1;33m\u001b[0m\u001b[0m\n\u001b[0;32m      7\u001b[0m     \u001b[1;32mfor\u001b[0m \u001b[0mj\u001b[0m \u001b[1;32min\u001b[0m \u001b[0mrange\u001b[0m\u001b[1;33m(\u001b[0m\u001b[0mN\u001b[0m\u001b[1;33m)\u001b[0m\u001b[1;33m:\u001b[0m\u001b[1;33m\u001b[0m\u001b[0m\n",
      "\u001b[1;31mNameError\u001b[0m: name 'M' is not defined"
     ]
    }
   ],
   "source": [
    "def main(A=[[]]):\n",
    "    M=len(A)\n",
    "    N=len(A[0])\n",
    "    \n",
    "for i in range(M): \n",
    "    rowsum = 0\n",
    "    for j in range(N):\n",
    "        rowsum = rowsum + A[i][j]\n",
    "    print(\"The sum of row {i}\" is {rowsum})\n",
    "    "
   ]
  },
  {
   "cell_type": "markdown",
   "metadata": {},
   "source": [
    "### no.8\n",
    "https://apcs.csie.ntnu.edu.tw/wp-content/uploads/2018/12/1060304APCSconcept.pdf"
   ]
  },
  {
   "cell_type": "code",
   "execution_count": 7,
   "metadata": {},
   "outputs": [
    {
     "name": "stdout",
     "output_type": "stream",
     "text": [
      "1,6,7,7,8,1,9"
     ]
    }
   ],
   "source": [
    "s=1\n",
    "def add(a=0):\n",
    "    s= 6\n",
    "    while a>=0:\n",
    "        # print(f\"{s}(add_1),\")\n",
    "        print(f\"{s},\", end='')\n",
    "        s=s+1\n",
    "        # print(f\"{s}(add_2),\")\n",
    "        print(f'{s},', end='')\n",
    "        a=a-1\n",
    "    \n",
    "# print(f\"{s}(main_1),\") \n",
    "print(f'{s},', end='')\n",
    "add(s)\n",
    "# print(f\"{s}(main_2),\") \n",
    "print(f'{s},', end='')\n",
    "s = 9\n",
    "# print(f\"{s}(main_3)\")\n",
    "print(f'{s}', end='')"
   ]
  },
  {
   "cell_type": "code",
   "execution_count": 8,
   "metadata": {},
   "outputs": [],
   "source": [
    "#105年 3月 https://apcs.csie.ntnu.edu.tw/wp-content/uploads/2018/12/1050305APCSconcept.pdf"
   ]
  },
  {
   "cell_type": "code",
   "execution_count": 5,
   "metadata": {},
   "outputs": [
    {
     "name": "stdout",
     "output_type": "stream",
     "text": [
      "d=[0, 1, 2, 3, 4, 5]\n",
      "輸入整數:11\n",
      "輸入整數:12\n",
      "輸入整數:13\n",
      "輸入整數:14\n",
      "輸入整數:15\n",
      "輸入整數:16\n",
      "d=[0, 11, 12, 13, 14, 15]\n",
      "16 is not the smallest.\n"
     ]
    }
   ],
   "source": [
    "d=list(range(6))\n",
    "val = 0\n",
    "allBig = 0\n",
    "\n",
    "print(f\"d={d}\")\n",
    "\n",
    "for i in range(1,5+1):\n",
    "    d[i]=int(input(\"輸入整數:\"))\n",
    "val=int(input(\"輸入整數:\"))\n",
    "allBig = True\n",
    "\n",
    "print(f\"d={d}\")\n",
    "\n",
    "for i in range(1,5+1):\n",
    "    if d[i]> val:\n",
    "        allBig = True\n",
    "    else:\n",
    "        allBig = False \n",
    "\n",
    "if allBig == True:\n",
    "    print(\"{} is the smallest.\".format(val))\n",
    "\n",
    "else:\n",
    "    print(\"{} is not the smallest.\".format(val))\n"
   ]
  },
  {
   "cell_type": "code",
   "execution_count": 6,
   "metadata": {},
   "outputs": [
    {
     "name": "stdout",
     "output_type": "stream",
     "text": [
      "d=[0, 1, 2, 3, 4, 5]\n",
      "輸入整數:11\n",
      "輸入整數:12\n",
      "輸入整數:13\n",
      "輸入整數:14\n",
      "輸入整數:15\n",
      "輸入整數:3\n",
      "d=[0, 11, 12, 13, 14, 15]\n",
      "3 is the smallest.\n"
     ]
    }
   ],
   "source": [
    "d=list(range(6))\n",
    "val = 0\n",
    "allBig = 0\n",
    "\n",
    "print(f\"d={d}\")\n",
    "\n",
    "for i in range(1,5+1):\n",
    "    d[i]=int(input(\"輸入整數:\"))\n",
    "val=int(input(\"輸入整數:\"))\n",
    "allBig = True\n",
    "\n",
    "print(f\"d={d}\")\n",
    "\n",
    "for i in range(1,5+1):\n",
    "    if d[i]> val:\n",
    "        allBig = True\n",
    "    else:\n",
    "        allBig = False \n",
    "\n",
    "if allBig == True:\n",
    "    print(\"{} is the smallest.\".format(val))\n",
    "\n",
    "else:\n",
    "    print(\"{} is not the smallest.\".format(val))"
   ]
  },
  {
   "cell_type": "markdown",
   "metadata": {},
   "source": [
    "### no.12\n",
    "(可以直接做出符合題目需求的函式)"
   ]
  },
  {
   "cell_type": "code",
   "execution_count": 1,
   "metadata": {},
   "outputs": [
    {
     "data": {
      "text/plain": [
       "3334"
      ]
     },
     "execution_count": 1,
     "metadata": {},
     "output_type": "execute_result"
    }
   ],
   "source": [
    "from random import randint\n",
    "randint(0,10000)"
   ]
  },
  {
   "cell_type": "code",
   "execution_count": 2,
   "metadata": {},
   "outputs": [
    {
     "data": {
      "text/plain": [
       "322"
      ]
     },
     "execution_count": 2,
     "metadata": {},
     "output_type": "execute_result"
    }
   ],
   "source": [
    "def rand():\n",
    "    return randint(0,10000)\n",
    "((rand()% 901) + 100)"
   ]
  },
  {
   "cell_type": "markdown",
   "metadata": {},
   "source": [
    "### no.13"
   ]
  },
  {
   "cell_type": "code",
   "execution_count": 3,
   "metadata": {},
   "outputs": [
    {
     "name": "stdout",
     "output_type": "stream",
     "text": [
      "Hi! count =1, i=0\n",
      "Hi! count =2, i=5\n",
      "Hi! count =3, i=10\n",
      "Hi! count =4, i=15\n",
      "Hi! count =5, i=20\n",
      "Hi! count =6, i=25\n",
      "Hi! count =7, i=30\n",
      "Hi! count =8, i=35\n",
      "Hi! count =9, i=40\n",
      "Hi! count =10, i=45\n",
      "Hi! count =11, i=50\n",
      "Hi! count =12, i=55\n",
      "Hi! count =13, i=60\n",
      "Hi! count =14, i=65\n",
      "Hi! count =15, i=70\n",
      "Hi! count =16, i=75\n",
      "Hi! count =17, i=80\n",
      "Hi! count =18, i=85\n",
      "Hi! count =19, i=90\n",
      "Hi! count =20, i=95\n",
      "Hi! count =21, i=100\n"
     ]
    }
   ],
   "source": [
    "count=0\n",
    "for i in range(0, 100+1, 5 ):\n",
    "    count= count +1    #埋計數器輔助計算次數\n",
    "    print(f\"Hi! count ={count}, i={i}\")"
   ]
  },
  {
   "cell_type": "markdown",
   "metadata": {},
   "source": [
    "### no.15"
   ]
  },
  {
   "cell_type": "code",
   "execution_count": 4,
   "metadata": {},
   "outputs": [],
   "source": [
    "def F(a=0):\n",
    "    while a < 10: \n",
    "        a = a + 5\n",
    "        print(\"a<10\")   #自己加，輔助辨認\n",
    "    if a < 12:\n",
    "        a = a + 2\n",
    "        print(\"a=a+2\")\n",
    "    if a <= 11:\n",
    "        a = 5\n",
    "        print(\"a=5\")"
   ]
  },
  {
   "cell_type": "code",
   "execution_count": 5,
   "metadata": {},
   "outputs": [
    {
     "name": "stdout",
     "output_type": "stream",
     "text": [
      "a<10\n",
      "a<10\n",
      "a=a+2\n"
     ]
    }
   ],
   "source": [
    "F(1)"
   ]
  },
  {
   "cell_type": "code",
   "execution_count": 6,
   "metadata": {},
   "outputs": [
    {
     "name": "stdout",
     "output_type": "stream",
     "text": [
      "a=a+2\n"
     ]
    }
   ],
   "source": [
    "F(11)"
   ]
  },
  {
   "cell_type": "markdown",
   "metadata": {},
   "source": [
    "### no.23\n",
    "\n",
    "程式執行時，程式中的變數值是存放在\n",
    "\n",
    "\"\"\"(A) 記憶體\"\"\"\n",
    "\n",
    "(B) 硬碟 (C) 輸出入裝置 (D) 匯流排"
   ]
  },
  {
   "cell_type": "markdown",
   "metadata": {},
   "source": [
    "### no.24\n",
    "\n",
    "\n",
    "程式執行過程中，若變數發生溢位情形，其主要原因為何？\n",
    "\n",
    "\"\"\"(A) 以有限數目的位元儲存變數值\"\"\"\n",
    "\n",
    "(B) 電壓不穩定 (C) 作業系統與程式不甚相容 (D) 變數過多導致編譯器無法完全處理"
   ]
  },
  {
   "cell_type": "code",
   "execution_count": null,
   "metadata": {},
   "outputs": [],
   "source": []
  }
 ],
 "metadata": {
  "kernelspec": {
   "display_name": "Python 3",
   "language": "python",
   "name": "python3"
  },
  "language_info": {
   "codemirror_mode": {
    "name": "ipython",
    "version": 3
   },
   "file_extension": ".py",
   "mimetype": "text/x-python",
   "name": "python",
   "nbconvert_exporter": "python",
   "pygments_lexer": "ipython3",
   "version": "3.6.6"
  }
 },
 "nbformat": 4,
 "nbformat_minor": 2
}
